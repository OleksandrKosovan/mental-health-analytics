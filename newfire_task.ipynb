{
 "cells": [
  {
   "cell_type": "markdown",
   "metadata": {},
   "source": [
    "# New Fire. Task"
   ]
  },
  {
   "cell_type": "markdown",
   "metadata": {},
   "source": [
    "# Dataset Information\n",
    "This dataset is from a 2014 survey that measures attitudes towards mental health and frequency of mental health disorders in the tech workplace. "
   ]
  },
  {
   "cell_type": "code",
   "execution_count": 172,
   "metadata": {},
   "outputs": [],
   "source": [
    "#################################################################################################################"
   ]
  },
  {
   "cell_type": "markdown",
   "metadata": {},
   "source": [
    "# Сontent\n",
    "### 1. Import\n",
    "### 2. Upload & Research data\n",
    "### 3. Visualization and cleaning data\n",
    "### 4. The answer to the first question\n",
    "#### 4.1. Country and 'obs_consequence' \n",
    "#### 4.2. Heatmap for each variables\n",
    "### 5. Build model for prediction 'obs_consequence'. With country\n",
    "#### 5.1. Prediction for modeling\n",
    "#### 5.2. Split data\n",
    "#### 5.3. Build model"
   ]
  },
  {
   "cell_type": "code",
   "execution_count": 173,
   "metadata": {},
   "outputs": [],
   "source": [
    "#################################################################################################################"
   ]
  },
  {
   "cell_type": "markdown",
   "metadata": {},
   "source": [
    "# Tools, wich i used:\n",
    "- python3\n",
    "- Anaconda\n",
    "- Jupyter Notebook\n",
    "- SciPy\n",
    "- seaborn, plotly (visualization)\n",
    "- classification (Decision Tree, LogisticRegression, RandomForest, lightgbm)"
   ]
  },
  {
   "cell_type": "code",
   "execution_count": 174,
   "metadata": {},
   "outputs": [],
   "source": [
    "#################################################################################################################"
   ]
  },
  {
   "cell_type": "markdown",
   "metadata": {},
   "source": [
    "# About my task. I need to answer the question\n",
    "## Questions to answer:\n",
    "- How does the frequency of mental health illness and attitudes (other factors in datasets) towards mental health vary by geographic location?\n",
    "- What are the strongest predictors of mental health illness treatment?"
   ]
  },
  {
   "cell_type": "code",
   "execution_count": 175,
   "metadata": {},
   "outputs": [],
   "source": [
    "#################################################################################################################"
   ]
  },
  {
   "cell_type": "markdown",
   "metadata": {},
   "source": [
    "# Answers:\n",
    "\n",
    "1.Сonclusions from the visualization:\n",
    "- The largest number of respondents from the United States. They are relatively equally distributed. UK and Canada are too. \n",
    "- But indicators for other countries are not enough. \n",
    "- So, we can`t say that it depends on the location.We dont have enough information\n",
    "- We need to pay attention on correlation with country. [no_employees: 0.31] , [work_interfere: -0.39]\n",
    "\n",
    "2.We need to pay attention on next correlation:\n",
    "- [coworkers / phys_health_consequence: 0.57], [mental_health_consequence: 0.51], [treatment / family_history: 0.49], [coworkers / leave: -0.577]\n",
    "- I use LightgbmClassifier for prediction consequences for coworkers with mental health conditions in your workplace. So, this model takes into account the following indicators:\n",
    "\n",
    "> age\n",
    "\n",
    "> no_employees\n",
    "\n",
    "> leave\n",
    "\n",
    "> work_interfere\n"
   ]
  },
  {
   "cell_type": "code",
   "execution_count": 176,
   "metadata": {},
   "outputs": [],
   "source": [
    "#################################################################################################################"
   ]
  },
  {
   "cell_type": "markdown",
   "metadata": {},
   "source": [
    "# Сonclusion"
   ]
  },
  {
   "cell_type": "markdown",
   "metadata": {},
   "source": [
    "###### So,\n",
    "it is all. I think we should pay attention to the above-mentioned abstracts and collect more data."
   ]
  },
  {
   "cell_type": "code",
   "execution_count": 177,
   "metadata": {},
   "outputs": [],
   "source": [
    "#################################################################################################################"
   ]
  },
  {
   "cell_type": "markdown",
   "metadata": {},
   "source": [
    "### 1. Import"
   ]
  },
  {
   "cell_type": "code",
   "execution_count": 178,
   "metadata": {},
   "outputs": [],
   "source": [
    "# linear algebra\n",
    "import numpy as np\n",
    "\n",
    "# for data frame\n",
    "import pandas as pd"
   ]
  },
  {
   "cell_type": "code",
   "execution_count": 179,
   "metadata": {},
   "outputs": [],
   "source": [
    "# visualization\n",
    "import seaborn as sns\n",
    "import matplotlib.pyplot as plt\n",
    "%matplotlib inline"
   ]
  },
  {
   "cell_type": "code",
   "execution_count": 180,
   "metadata": {},
   "outputs": [
    {
     "data": {
      "text/html": [
       "<script>requirejs.config({paths: { 'plotly': ['https://cdn.plot.ly/plotly-latest.min']},});if(!window.Plotly) {{require(['plotly'],function(plotly) {window.Plotly=plotly;});}}</script>"
      ],
      "text/vnd.plotly.v1+html": [
       "<script>requirejs.config({paths: { 'plotly': ['https://cdn.plot.ly/plotly-latest.min']},});if(!window.Plotly) {{require(['plotly'],function(plotly) {window.Plotly=plotly;});}}</script>"
      ]
     },
     "metadata": {},
     "output_type": "display_data"
    }
   ],
   "source": [
    "import plotly.tools as tls\n",
    "import plotly.offline as py\n",
    "from plotly.offline import init_notebook_mode, iplot, plot\n",
    "import plotly.graph_objs as go\n",
    "init_notebook_mode(connected=True)"
   ]
  },
  {
   "cell_type": "code",
   "execution_count": 181,
   "metadata": {},
   "outputs": [],
   "source": [
    "# for split train and test data\n",
    "\n",
    "from sklearn.cross_validation import train_test_split"
   ]
  },
  {
   "cell_type": "code",
   "execution_count": 182,
   "metadata": {},
   "outputs": [],
   "source": [
    "# machine learning\n",
    "from sklearn.linear_model import LogisticRegression\n",
    "from sklearn.tree import DecisionTreeClassifier\n",
    "from sklearn.ensemble import RandomForestClassifier"
   ]
  },
  {
   "cell_type": "code",
   "execution_count": 183,
   "metadata": {},
   "outputs": [],
   "source": [
    "import lightgbm as lgb"
   ]
  },
  {
   "cell_type": "code",
   "execution_count": 184,
   "metadata": {},
   "outputs": [],
   "source": [
    "# for decision tree\n",
    "\n",
    "from IPython.display import Image  \n",
    "from sklearn import tree\n",
    "import pydotplus"
   ]
  },
  {
   "cell_type": "markdown",
   "metadata": {},
   "source": [
    "### 2. Upload & Research data"
   ]
  },
  {
   "cell_type": "code",
   "execution_count": 185,
   "metadata": {},
   "outputs": [],
   "source": [
    "# read data\n",
    "df=pd.read_csv('survey_test.csv')"
   ]
  },
  {
   "cell_type": "code",
   "execution_count": 186,
   "metadata": {},
   "outputs": [
    {
     "name": "stdout",
     "output_type": "stream",
     "text": [
      "<class 'pandas.core.frame.DataFrame'>\n",
      "RangeIndex: 1261 entries, 0 to 1260\n",
      "Data columns (total 27 columns):\n",
      "Timestamp                    1261 non-null object\n",
      "Age                          1261 non-null int64\n",
      "Gender                       1261 non-null object\n",
      "Country                      1261 non-null object\n",
      "state                        745 non-null object\n",
      "self_employed                1242 non-null object\n",
      "family_history               1260 non-null object\n",
      "treatment                    1261 non-null object\n",
      "work_interfere               997 non-null object\n",
      "no_employees                 1260 non-null object\n",
      "remote_work                  1261 non-null object\n",
      "tech_company                 1261 non-null object\n",
      "benefits                     1260 non-null object\n",
      "care_options                 1261 non-null object\n",
      "wellness_program             1261 non-null object\n",
      "seek_help                    1260 non-null object\n",
      "anonymity                    1261 non-null object\n",
      "leave                        1261 non-null object\n",
      "mental_health_consequence    1261 non-null object\n",
      "phys_health_consequence      1261 non-null object\n",
      "coworkers                    1261 non-null object\n",
      "supervisor                   1261 non-null object\n",
      "mental_health_interview      1261 non-null object\n",
      "phys_health_interview        1261 non-null object\n",
      "mental_vs_physical           1261 non-null object\n",
      "obs_consequence              1261 non-null object\n",
      "comments                     169 non-null object\n",
      "dtypes: int64(1), object(26)\n",
      "memory usage: 266.1+ KB\n"
     ]
    }
   ],
   "source": [
    "# output information about each row \n",
    "\n",
    "df.info()"
   ]
  },
  {
   "cell_type": "code",
   "execution_count": 187,
   "metadata": {},
   "outputs": [
    {
     "name": "stdout",
     "output_type": "stream",
     "text": [
      "(1261, 27)\n"
     ]
    },
    {
     "data": {
      "text/html": [
       "<div>\n",
       "<style scoped>\n",
       "    .dataframe tbody tr th:only-of-type {\n",
       "        vertical-align: middle;\n",
       "    }\n",
       "\n",
       "    .dataframe tbody tr th {\n",
       "        vertical-align: top;\n",
       "    }\n",
       "\n",
       "    .dataframe thead th {\n",
       "        text-align: right;\n",
       "    }\n",
       "</style>\n",
       "<table border=\"1\" class=\"dataframe\">\n",
       "  <thead>\n",
       "    <tr style=\"text-align: right;\">\n",
       "      <th></th>\n",
       "      <th>Timestamp</th>\n",
       "      <th>Age</th>\n",
       "      <th>Gender</th>\n",
       "      <th>Country</th>\n",
       "      <th>state</th>\n",
       "      <th>self_employed</th>\n",
       "      <th>family_history</th>\n",
       "      <th>treatment</th>\n",
       "      <th>work_interfere</th>\n",
       "      <th>no_employees</th>\n",
       "      <th>...</th>\n",
       "      <th>leave</th>\n",
       "      <th>mental_health_consequence</th>\n",
       "      <th>phys_health_consequence</th>\n",
       "      <th>coworkers</th>\n",
       "      <th>supervisor</th>\n",
       "      <th>mental_health_interview</th>\n",
       "      <th>phys_health_interview</th>\n",
       "      <th>mental_vs_physical</th>\n",
       "      <th>obs_consequence</th>\n",
       "      <th>comments</th>\n",
       "    </tr>\n",
       "  </thead>\n",
       "  <tbody>\n",
       "    <tr>\n",
       "      <th>0</th>\n",
       "      <td>2014-08-27 11:29:31</td>\n",
       "      <td>37</td>\n",
       "      <td>Female</td>\n",
       "      <td>United States</td>\n",
       "      <td>IL</td>\n",
       "      <td>NaN</td>\n",
       "      <td>No</td>\n",
       "      <td>Yes</td>\n",
       "      <td>Often</td>\n",
       "      <td>6-25</td>\n",
       "      <td>...</td>\n",
       "      <td>Somewhat easy</td>\n",
       "      <td>No</td>\n",
       "      <td>No</td>\n",
       "      <td>Some of them</td>\n",
       "      <td>Yes</td>\n",
       "      <td>No</td>\n",
       "      <td>Maybe</td>\n",
       "      <td>Yes</td>\n",
       "      <td>No</td>\n",
       "      <td>NaN</td>\n",
       "    </tr>\n",
       "    <tr>\n",
       "      <th>1</th>\n",
       "      <td>2014-08-27 11:29:37</td>\n",
       "      <td>44</td>\n",
       "      <td>M</td>\n",
       "      <td>United States</td>\n",
       "      <td>IN</td>\n",
       "      <td>NaN</td>\n",
       "      <td>No</td>\n",
       "      <td>No</td>\n",
       "      <td>Rarely</td>\n",
       "      <td>More than 1000</td>\n",
       "      <td>...</td>\n",
       "      <td>Don't know</td>\n",
       "      <td>Maybe</td>\n",
       "      <td>No</td>\n",
       "      <td>No</td>\n",
       "      <td>No</td>\n",
       "      <td>No</td>\n",
       "      <td>No</td>\n",
       "      <td>Don't know</td>\n",
       "      <td>No</td>\n",
       "      <td>NaN</td>\n",
       "    </tr>\n",
       "    <tr>\n",
       "      <th>2</th>\n",
       "      <td>2014-08-27 11:29:44</td>\n",
       "      <td>32</td>\n",
       "      <td>Male</td>\n",
       "      <td>Canada</td>\n",
       "      <td>NaN</td>\n",
       "      <td>NaN</td>\n",
       "      <td>No</td>\n",
       "      <td>No</td>\n",
       "      <td>Rarely</td>\n",
       "      <td>6-25</td>\n",
       "      <td>...</td>\n",
       "      <td>Somewhat difficult</td>\n",
       "      <td>No</td>\n",
       "      <td>No</td>\n",
       "      <td>Yes</td>\n",
       "      <td>Yes</td>\n",
       "      <td>Yes</td>\n",
       "      <td>Yes</td>\n",
       "      <td>No</td>\n",
       "      <td>No</td>\n",
       "      <td>NaN</td>\n",
       "    </tr>\n",
       "    <tr>\n",
       "      <th>3</th>\n",
       "      <td>2014-08-27 11:29:46</td>\n",
       "      <td>31</td>\n",
       "      <td>Male</td>\n",
       "      <td>United Kingdom</td>\n",
       "      <td>NaN</td>\n",
       "      <td>NaN</td>\n",
       "      <td>Yes</td>\n",
       "      <td>Yes</td>\n",
       "      <td>Often</td>\n",
       "      <td>26-100</td>\n",
       "      <td>...</td>\n",
       "      <td>Somewhat difficult</td>\n",
       "      <td>Yes</td>\n",
       "      <td>Yes</td>\n",
       "      <td>Some of them</td>\n",
       "      <td>No</td>\n",
       "      <td>Maybe</td>\n",
       "      <td>Maybe</td>\n",
       "      <td>No</td>\n",
       "      <td>Yes</td>\n",
       "      <td>NaN</td>\n",
       "    </tr>\n",
       "    <tr>\n",
       "      <th>4</th>\n",
       "      <td>2014-08-27 11:30:22</td>\n",
       "      <td>31</td>\n",
       "      <td>Male</td>\n",
       "      <td>United States</td>\n",
       "      <td>TX</td>\n",
       "      <td>NaN</td>\n",
       "      <td>No</td>\n",
       "      <td>No</td>\n",
       "      <td>Never</td>\n",
       "      <td>100-500</td>\n",
       "      <td>...</td>\n",
       "      <td>Don't know</td>\n",
       "      <td>No</td>\n",
       "      <td>No</td>\n",
       "      <td>Some of them</td>\n",
       "      <td>Yes</td>\n",
       "      <td>Yes</td>\n",
       "      <td>Yes</td>\n",
       "      <td>Don't know</td>\n",
       "      <td>No</td>\n",
       "      <td>NaN</td>\n",
       "    </tr>\n",
       "  </tbody>\n",
       "</table>\n",
       "<p>5 rows × 27 columns</p>\n",
       "</div>"
      ],
      "text/plain": [
       "             Timestamp  Age  Gender         Country state self_employed  \\\n",
       "0  2014-08-27 11:29:31   37  Female   United States    IL           NaN   \n",
       "1  2014-08-27 11:29:37   44       M   United States    IN           NaN   \n",
       "2  2014-08-27 11:29:44   32    Male          Canada   NaN           NaN   \n",
       "3  2014-08-27 11:29:46   31    Male  United Kingdom   NaN           NaN   \n",
       "4  2014-08-27 11:30:22   31    Male   United States    TX           NaN   \n",
       "\n",
       "  family_history treatment work_interfere    no_employees   ...     \\\n",
       "0             No       Yes          Often            6-25   ...      \n",
       "1             No        No         Rarely  More than 1000   ...      \n",
       "2             No        No         Rarely            6-25   ...      \n",
       "3            Yes       Yes          Often          26-100   ...      \n",
       "4             No        No          Never         100-500   ...      \n",
       "\n",
       "                leave mental_health_consequence phys_health_consequence  \\\n",
       "0       Somewhat easy                        No                      No   \n",
       "1          Don't know                     Maybe                      No   \n",
       "2  Somewhat difficult                        No                      No   \n",
       "3  Somewhat difficult                       Yes                     Yes   \n",
       "4          Don't know                        No                      No   \n",
       "\n",
       "      coworkers supervisor mental_health_interview phys_health_interview  \\\n",
       "0  Some of them        Yes                      No                 Maybe   \n",
       "1            No         No                      No                    No   \n",
       "2           Yes        Yes                     Yes                   Yes   \n",
       "3  Some of them         No                   Maybe                 Maybe   \n",
       "4  Some of them        Yes                     Yes                   Yes   \n",
       "\n",
       "  mental_vs_physical obs_consequence comments  \n",
       "0                Yes              No      NaN  \n",
       "1         Don't know              No      NaN  \n",
       "2                 No              No      NaN  \n",
       "3                 No             Yes      NaN  \n",
       "4         Don't know              No      NaN  \n",
       "\n",
       "[5 rows x 27 columns]"
      ]
     },
     "execution_count": 187,
     "metadata": {},
     "output_type": "execute_result"
    }
   ],
   "source": [
    "# shape dataframe\n",
    "print(df.shape)\n",
    "\n",
    "# first five row from dataframe\n",
    "df.head()"
   ]
  },
  {
   "cell_type": "code",
   "execution_count": 188,
   "metadata": {},
   "outputs": [
    {
     "name": "stdout",
     "output_type": "stream",
     "text": [
      "Timestamp                    1246\n",
      "Age                            55\n",
      "Gender                         49\n",
      "Country                        51\n",
      "state                          45\n",
      "self_employed                   2\n",
      "family_history                  2\n",
      "treatment                       2\n",
      "work_interfere                  5\n",
      "no_employees                    6\n",
      "remote_work                     2\n",
      "tech_company                    2\n",
      "benefits                        3\n",
      "care_options                    3\n",
      "wellness_program                3\n",
      "seek_help                       3\n",
      "anonymity                       3\n",
      "leave                           5\n",
      "mental_health_consequence       3\n",
      "phys_health_consequence         3\n",
      "coworkers                       3\n",
      "supervisor                      3\n",
      "mental_health_interview         3\n",
      "phys_health_interview           3\n",
      "mental_vs_physical              5\n",
      "obs_consequence                 2\n",
      "comments                      163\n",
      "dtype: int64\n"
     ]
    }
   ],
   "source": [
    "# number of different features for each features\n",
    "\n",
    "print(df.nunique())"
   ]
  },
  {
   "cell_type": "code",
   "execution_count": 189,
   "metadata": {},
   "outputs": [
    {
     "data": {
      "text/plain": [
       "array(['Female', 'M', 'Male', 'male', 'female', 'm', 'Male-ish', 'maile',\n",
       "       'Trans-female', 'Cis Female', 'F', 'something kinda male?',\n",
       "       'Cis Male', 'Woman', 'f', 'Mal', 'Male (CIS)', 'queer/she/they',\n",
       "       'non-binary', 'Femake', 'woman', 'Make', 'Nah', 'All', 'Enby',\n",
       "       'fluid', 'Genderqueer', 'Female ', 'Androgyne', 'Agender',\n",
       "       'cis-female/femme', 'Guy (-ish) ^_^', 'male leaning androgynous',\n",
       "       'Male ', 'Man', 'Trans woman', 'msle', 'Neuter', 'Female (trans)',\n",
       "       'queer', 'Female (cis)', 'Mail', 'cis male', 'A little about you',\n",
       "       'Malr', 'p', 'femail', 'Cis Man',\n",
       "       'ostensibly male, unsure what that really means'], dtype=object)"
      ]
     },
     "execution_count": 189,
     "metadata": {},
     "output_type": "execute_result"
    }
   ],
   "source": [
    "df['Gender'].unique()"
   ]
  },
  {
   "cell_type": "code",
   "execution_count": 190,
   "metadata": {
    "scrolled": true
   },
   "outputs": [
    {
     "data": {
      "text/plain": [
       "array(['United States', 'Canada', 'United Kingdom', 'USA', 'Bulgaria',\n",
       "       'France', 'usa', 'Portugal', 'Netherlands', 'The USA',\n",
       "       'Switzerland', 'Poland', 'Australia', 'Germany', 'Russia',\n",
       "       'Mexico', 'Brazil', 'Slovenia', 'Costa Rica', 'Austria', 'Ireland',\n",
       "       'India', 'South Africa', 'Italy', 'Sweden', 'Colombia', 'Latvia',\n",
       "       'Romania', 'Belgium', 'New Zealand', 'Zimbabwe', 'Spain',\n",
       "       'Finland', 'Uruguay', 'Israel', 'Bosnia and Herzegovina',\n",
       "       'Hungary', 'Singapore', 'Japan', 'Nigeria', 'Croatia', 'Norway',\n",
       "       'Thailand', 'Denmark', 'Bahamas, The', 'Greece', 'Moldova',\n",
       "       'Georgia', 'China', 'Czech Republic', 'Philippines'], dtype=object)"
      ]
     },
     "execution_count": 190,
     "metadata": {},
     "output_type": "execute_result"
    }
   ],
   "source": [
    "df['Country'].unique()"
   ]
  },
  {
   "cell_type": "code",
   "execution_count": 191,
   "metadata": {},
   "outputs": [
    {
     "data": {
      "text/plain": [
       "array(['IL', 'IN', nan, 'TX', 'TN', 'MI', 'OH', 'CA', 'CT', 'MD', 'NY',\n",
       "       'NC', 'MA', 'IA', 'PA', 'WA', 'WI', 'UT', 'NM', 'OR', 'FL', 'MN',\n",
       "       'MO', 'AZ', 'CO', 'GA', 'DC', 'NE', 'WV', 'OK', 'KS', 'VA', 'NH',\n",
       "       'KY', 'AL', 'NV', 'NJ', 'SC', 'VT', 'SD', 'ID', 'MS', 'RI', 'WY',\n",
       "       'LA', 'ME'], dtype=object)"
      ]
     },
     "execution_count": 191,
     "metadata": {},
     "output_type": "execute_result"
    }
   ],
   "source": [
    "df['state'].unique()"
   ]
  },
  {
   "cell_type": "code",
   "execution_count": 192,
   "metadata": {},
   "outputs": [
    {
     "data": {
      "text/plain": [
       "['state',\n",
       " 'self_employed',\n",
       " 'family_history',\n",
       " 'work_interfere',\n",
       " 'no_employees',\n",
       " 'benefits',\n",
       " 'seek_help',\n",
       " 'comments']"
      ]
     },
     "execution_count": 192,
     "metadata": {},
     "output_type": "execute_result"
    }
   ],
   "source": [
    "# find which columns contain any NaN value in Pandas dataframe\n",
    "df.columns[df.isna().any()].tolist()"
   ]
  },
  {
   "cell_type": "markdown",
   "metadata": {},
   "source": [
    "#### I will not use these features"
   ]
  },
  {
   "cell_type": "code",
   "execution_count": 193,
   "metadata": {},
   "outputs": [],
   "source": [
    "df = df.drop('Timestamp', 1)\n",
    "\n",
    "df = df.drop('comments', 1)\n",
    "\n",
    "df = df.drop('Gender', 1)\n",
    "\n",
    "df = df.drop('state', 1)"
   ]
  },
  {
   "cell_type": "markdown",
   "metadata": {},
   "source": [
    "### 3. Visualization and cleaning data"
   ]
  },
  {
   "cell_type": "markdown",
   "metadata": {},
   "source": [
    "###### Age"
   ]
  },
  {
   "cell_type": "code",
   "execution_count": 194,
   "metadata": {},
   "outputs": [
    {
     "name": "stderr",
     "output_type": "stream",
     "text": [
      "/home/olexandr/anaconda3/lib/python3.6/site-packages/ipykernel_launcher.py:2: FutureWarning:\n",
      "\n",
      "the raise_on_error=False keyword is deprecated, use errors='ignore' instead\n",
      "\n"
     ]
    },
    {
     "data": {
      "image/png": "[encoded data removed]",
      "text/plain": [
       "<Figure size 432x288 with 1 Axes>"
      ]
     },
     "metadata": {},
     "output_type": "display_data"
    }
   ],
   "source": [
    "# row 'Age' => convert object to float\n",
    "df['Age']= df['Age'].astype('float64', raise_on_error = False)\n",
    "\n",
    "\n",
    "df[['Age']].plot(kind='hist',bins=[0,10,20,30,40,50, 60, 70, 80],rwidth=0.8)\n",
    "plt.show()"
   ]
  },
  {
   "cell_type": "markdown",
   "metadata": {},
   "source": [
    "###### self_employed\n",
    "Are you self-employed?"
   ]
  },
  {
   "cell_type": "code",
   "execution_count": 195,
   "metadata": {},
   "outputs": [
    {
     "data": {
      "image/png": "[encoded data removed]",
      "text/plain": [
       "<Figure size 432x288 with 1 Axes>"
      ]
     },
     "metadata": {},
     "output_type": "display_data"
    }
   ],
   "source": [
    "# plot for 'self_employed'\n",
    "\n",
    "df['self_employed'].value_counts().plot.bar()\n",
    "plt.show()"
   ]
  },
  {
   "cell_type": "code",
   "execution_count": 196,
   "metadata": {},
   "outputs": [],
   "source": [
    "# We need encoding 'self_employed'. \n",
    "\n",
    "df['self_employed'] = df['self_employed'].map({\n",
    "        'No': 0,\n",
    "        'Yes': 1         \n",
    "})"
   ]
  },
  {
   "cell_type": "markdown",
   "metadata": {},
   "source": [
    "###### family_history\n",
    "Do you have a family history of mental illness?"
   ]
  },
  {
   "cell_type": "code",
   "execution_count": 197,
   "metadata": {},
   "outputs": [
    {
     "data": {
      "image/png": "[encoded data removed]",
      "text/plain": [
       "<Figure size 432x288 with 1 Axes>"
      ]
     },
     "metadata": {},
     "output_type": "display_data"
    }
   ],
   "source": [
    "# plot for 'family_history'\n",
    "\n",
    "df['family_history'].value_counts().plot.bar()\n",
    "plt.show()"
   ]
  },
  {
   "cell_type": "code",
   "execution_count": 198,
   "metadata": {},
   "outputs": [],
   "source": [
    "# We need encoding 'family_history'. \n",
    "\n",
    "df['family_history'] = df['family_history'].map({\n",
    "        'No': 0,\n",
    "        'Yes': 1         \n",
    "})"
   ]
  },
  {
   "cell_type": "markdown",
   "metadata": {},
   "source": [
    "###### treatment\n",
    "Have you sought treatment for a mental health condition?"
   ]
  },
  {
   "cell_type": "code",
   "execution_count": 199,
   "metadata": {},
   "outputs": [
    {
     "data": {
      "image/png": "[encoded data removed]",
      "text/plain": [
       "<Figure size 432x288 with 1 Axes>"
      ]
     },
     "metadata": {},
     "output_type": "display_data"
    }
   ],
   "source": [
    "# plot for 'treatment'\n",
    "\n",
    "df['treatment'].value_counts().plot.bar()\n",
    "plt.show()"
   ]
  },
  {
   "cell_type": "code",
   "execution_count": 200,
   "metadata": {},
   "outputs": [],
   "source": [
    "# We need encoding 'treatment'. \n",
    "\n",
    "df['treatment'] = df['treatment'].map({\n",
    "        'No': 0,\n",
    "        'Yes': 1         \n",
    "})"
   ]
  },
  {
   "cell_type": "markdown",
   "metadata": {},
   "source": [
    "###### work_interfere\n",
    "If you have a mental health condition, do you feel that it interferes with your work?"
   ]
  },
  {
   "cell_type": "code",
   "execution_count": 201,
   "metadata": {},
   "outputs": [
    {
     "data": {
      "image/png": "[encoded data removed]",
      "text/plain": [
       "<Figure size 432x288 with 1 Axes>"
      ]
     },
     "metadata": {},
     "output_type": "display_data"
    }
   ],
   "source": [
    "# plot for 'work_interfere'\n",
    "\n",
    "df['work_interfere'].value_counts().plot.bar()\n",
    "plt.show()"
   ]
  },
  {
   "cell_type": "code",
   "execution_count": 202,
   "metadata": {},
   "outputs": [],
   "source": [
    "# encodding 'work_interfere'\n",
    "\n",
    "def apply_work_interfere(s):\n",
    "    if s == 'Never':\n",
    "        return 0\n",
    "    elif s == 'Rarely':\n",
    "        return 1\n",
    "    elif s == 'Sometimes':\n",
    "        return 2\n",
    "    elif s == 'sometimes':\n",
    "        return 2\n",
    "    elif s == 'Often':\n",
    "        return 3\n",
    "\n",
    "df['work_interfere'] = df['work_interfere'].apply(apply_work_interfere)"
   ]
  },
  {
   "cell_type": "code",
   "execution_count": 203,
   "metadata": {},
   "outputs": [
    {
     "data": {
      "image/png": "[encoded data removed]",
      "text/plain": [
       "<Figure size 432x288 with 1 Axes>"
      ]
     },
     "metadata": {},
     "output_type": "display_data"
    }
   ],
   "source": [
    "# plot for 'work_interfere'\n",
    "\n",
    "df['work_interfere'].value_counts().plot.bar()\n",
    "plt.show()"
   ]
  },
  {
   "cell_type": "markdown",
   "metadata": {},
   "source": [
    "###### no_employees\n",
    "How many employees does your company or organization have?"
   ]
  },
  {
   "cell_type": "code",
   "execution_count": 204,
   "metadata": {},
   "outputs": [
    {
     "data": {
      "image/png": "[encoded data removed]",
      "text/plain": [
       "<Figure size 432x288 with 1 Axes>"
      ]
     },
     "metadata": {},
     "output_type": "display_data"
    }
   ],
   "source": [
    "# plot for 'no_employees'\n",
    "\n",
    "df['no_employees'].value_counts().plot.bar()\n",
    "plt.show()"
   ]
  },
  {
   "cell_type": "code",
   "execution_count": 205,
   "metadata": {},
   "outputs": [],
   "source": [
    "# encodding 'no_employees'\n",
    "\n",
    "def apply_no_employees(s):\n",
    "    if s == '1-5':\n",
    "        return 0\n",
    "    elif s == '6-25':\n",
    "        return 1\n",
    "    elif s == '26-100':\n",
    "        return 2\n",
    "    elif s == '100-500':\n",
    "        return 3\n",
    "    elif s == '500-1000':\n",
    "        return 4\n",
    "    elif s == 'More than 1000':\n",
    "        return 5\n",
    "\n",
    "df['no_employees'] = df['no_employees'].apply(apply_no_employees)"
   ]
  },
  {
   "cell_type": "code",
   "execution_count": 206,
   "metadata": {},
   "outputs": [
    {
     "data": {
      "image/png": "[encoded data removed]",
      "text/plain": [
       "<Figure size 432x288 with 1 Axes>"
      ]
     },
     "metadata": {},
     "output_type": "display_data"
    }
   ],
   "source": [
    "# plot for 'no_employees'\n",
    "\n",
    "df['no_employees'].value_counts().plot.bar()\n",
    "plt.show()"
   ]
  },
  {
   "cell_type": "markdown",
   "metadata": {},
   "source": [
    "###### remote_work\n",
    "Do you work remotely (outside of an office) at least 50% of the time?"
   ]
  },
  {
   "cell_type": "code",
   "execution_count": 207,
   "metadata": {},
   "outputs": [
    {
     "data": {
      "image/png": "[encoded data removed]",
      "text/plain": [
       "<Figure size 432x288 with 1 Axes>"
      ]
     },
     "metadata": {},
     "output_type": "display_data"
    }
   ],
   "source": [
    "# plot for 'remote_work'\n",
    "\n",
    "df['remote_work'].value_counts().plot.bar()\n",
    "plt.show()"
   ]
  },
  {
   "cell_type": "code",
   "execution_count": 208,
   "metadata": {},
   "outputs": [],
   "source": [
    "# We need encoding 'remote_work'. \n",
    "\n",
    "df['remote_work'] = df['remote_work'].map({\n",
    "        'No': 0,\n",
    "        'Yes': 1         \n",
    "})"
   ]
  },
  {
   "cell_type": "markdown",
   "metadata": {},
   "source": [
    "###### tech_company\n",
    "Is your employer primarily a tech company/organization?"
   ]
  },
  {
   "cell_type": "code",
   "execution_count": 209,
   "metadata": {},
   "outputs": [
    {
     "data": {
      "image/png": "[encoded data removed]",
      "text/plain": [
       "<Figure size 432x288 with 1 Axes>"
      ]
     },
     "metadata": {},
     "output_type": "display_data"
    }
   ],
   "source": [
    "# plot for 'tech_company'\n",
    "\n",
    "df['tech_company'].value_counts().plot.bar()\n",
    "plt.show()"
   ]
  },
  {
   "cell_type": "code",
   "execution_count": 210,
   "metadata": {},
   "outputs": [],
   "source": [
    "# We need encoding 'tech_company'. \n",
    "\n",
    "df['tech_company'] = df['tech_company'].map({\n",
    "        'No': 0,\n",
    "        'Yes': 1         \n",
    "})"
   ]
  },
  {
   "cell_type": "markdown",
   "metadata": {},
   "source": [
    "###### benefits\n",
    "Does your employer provide mental health benefits?"
   ]
  },
  {
   "cell_type": "code",
   "execution_count": 211,
   "metadata": {},
   "outputs": [
    {
     "data": {
      "image/png": "[encoded data removed]",
      "text/plain": [
       "<Figure size 432x288 with 1 Axes>"
      ]
     },
     "metadata": {},
     "output_type": "display_data"
    }
   ],
   "source": [
    "# plot for 'benefits'\n",
    "\n",
    "df['benefits'].value_counts().plot.bar()\n",
    "plt.show()"
   ]
  },
  {
   "cell_type": "code",
   "execution_count": 212,
   "metadata": {},
   "outputs": [],
   "source": [
    "# We need encoding 'benefits'. \n",
    "\n",
    "df['benefits'] = df['benefits'].map({\n",
    "        \"No\": 0,\n",
    "        \"Yes\": 1, \n",
    "        \"Don't know\": 2\n",
    "})"
   ]
  },
  {
   "cell_type": "markdown",
   "metadata": {},
   "source": [
    "###### care_options\n",
    "Do you know the options for mental health care your employer provides?"
   ]
  },
  {
   "cell_type": "code",
   "execution_count": 213,
   "metadata": {},
   "outputs": [
    {
     "data": {
      "image/png": "[encoded data removed]",
      "text/plain": [
       "<Figure size 432x288 with 1 Axes>"
      ]
     },
     "metadata": {},
     "output_type": "display_data"
    }
   ],
   "source": [
    "# plot for 'care_options'\n",
    "\n",
    "df['care_options'].value_counts().plot.bar()\n",
    "plt.show()"
   ]
  },
  {
   "cell_type": "code",
   "execution_count": 214,
   "metadata": {},
   "outputs": [],
   "source": [
    "# We need encoding 'care_options'. \n",
    "\n",
    "df['care_options'] = df['care_options'].map({\n",
    "        \"No\": 0,\n",
    "        \"Yes\": 1, \n",
    "        \"Not sure\": 2\n",
    "})"
   ]
  },
  {
   "cell_type": "markdown",
   "metadata": {},
   "source": [
    "###### wellness_program\n",
    "Has your employer ever discussed mental health as part of an employee wellness program?"
   ]
  },
  {
   "cell_type": "code",
   "execution_count": 215,
   "metadata": {},
   "outputs": [
    {
     "data": {
      "image/png": "[encoded data removed]",
      "text/plain": [
       "<Figure size 432x288 with 1 Axes>"
      ]
     },
     "metadata": {},
     "output_type": "display_data"
    }
   ],
   "source": [
    "# plot for 'wellness_program'\n",
    "\n",
    "df['wellness_program'].value_counts().plot.bar()\n",
    "plt.show()"
   ]
  },
  {
   "cell_type": "code",
   "execution_count": 216,
   "metadata": {},
   "outputs": [],
   "source": [
    "# We need encoding 'wellness_program'. \n",
    "\n",
    "df['wellness_program'] = df['wellness_program'].map({\n",
    "        \"No\": 0,\n",
    "        \"Yes\": 1, \n",
    "        \"Don't know\": 2\n",
    "})"
   ]
  },
  {
   "cell_type": "markdown",
   "metadata": {},
   "source": [
    "###### seek_help\n",
    "Does your employer provide resources to learn more about mental health issues and how to seek help?"
   ]
  },
  {
   "cell_type": "code",
   "execution_count": 217,
   "metadata": {},
   "outputs": [
    {
     "data": {
      "image/png": "[encoded data removed]",
      "text/plain": [
       "<Figure size 432x288 with 1 Axes>"
      ]
     },
     "metadata": {},
     "output_type": "display_data"
    }
   ],
   "source": [
    "# plot for 'seek_help'\n",
    "\n",
    "df['seek_help'].value_counts().plot.bar()\n",
    "plt.show()"
   ]
  },
  {
   "cell_type": "code",
   "execution_count": 218,
   "metadata": {},
   "outputs": [],
   "source": [
    "# We need encoding 'seek_help'. \n",
    "\n",
    "df['seek_help'] = df['seek_help'].map({\n",
    "        \"No\": 0,\n",
    "        \"Yes\": 1, \n",
    "        \"Don't know\": 2\n",
    "})"
   ]
  },
  {
   "cell_type": "markdown",
   "metadata": {},
   "source": [
    "###### anonymity\n",
    "Is your anonymity protected if you choose to take advantage of mental health or substance abuse treatment resources?"
   ]
  },
  {
   "cell_type": "code",
   "execution_count": 219,
   "metadata": {},
   "outputs": [
    {
     "data": {
      "image/png": "[encoded data removed]",
      "text/plain": [
       "<Figure size 432x288 with 1 Axes>"
      ]
     },
     "metadata": {},
     "output_type": "display_data"
    }
   ],
   "source": [
    "# plot for 'anonymity'\n",
    "\n",
    "df['anonymity'].value_counts().plot.bar()\n",
    "plt.show()"
   ]
  },
  {
   "cell_type": "code",
   "execution_count": 220,
   "metadata": {},
   "outputs": [],
   "source": [
    "# We need encoding 'anonymity'. \n",
    "\n",
    "df['anonymity'] = df['anonymity'].map({\n",
    "        \"No\": 0,\n",
    "        \"Yes\": 1, \n",
    "        \"Don't know\": 2\n",
    "})"
   ]
  },
  {
   "cell_type": "markdown",
   "metadata": {},
   "source": [
    "###### leave\n",
    "How easy is it for you to take medical leave for a mental health condition?"
   ]
  },
  {
   "cell_type": "code",
   "execution_count": 221,
   "metadata": {},
   "outputs": [
    {
     "data": {
      "image/png": "[encoded data removed]",
      "text/plain": [
       "<Figure size 432x288 with 1 Axes>"
      ]
     },
     "metadata": {},
     "output_type": "display_data"
    }
   ],
   "source": [
    "# plot for 'leave'\n",
    "\n",
    "df['leave'].value_counts().plot.bar()\n",
    "plt.show()"
   ]
  },
  {
   "cell_type": "code",
   "execution_count": 222,
   "metadata": {},
   "outputs": [],
   "source": [
    "# We need encoding 'leave'. \n",
    "\n",
    "df['leave'] = df['leave'].map({\n",
    "        \"Very easy\": 0,\n",
    "        \"Somewhat easy\": 1, \n",
    "        \"Somewhat difficult\": 2,\n",
    "        \"Very difficult\": 3,\n",
    "        \"Don't know\": 4\n",
    "})"
   ]
  },
  {
   "cell_type": "markdown",
   "metadata": {},
   "source": [
    "###### mental_health_consequence\n",
    "Do you think that discussing a mental health issue with your employer would have negative consequences?"
   ]
  },
  {
   "cell_type": "code",
   "execution_count": 223,
   "metadata": {},
   "outputs": [
    {
     "data": {
      "image/png": "[encoded data removed]",
      "text/plain": [
       "<Figure size 432x288 with 1 Axes>"
      ]
     },
     "metadata": {},
     "output_type": "display_data"
    }
   ],
   "source": [
    "# plot for 'mental_health_consequence'\n",
    "\n",
    "df['mental_health_consequence'].value_counts().plot.bar()\n",
    "plt.show()"
   ]
  },
  {
   "cell_type": "code",
   "execution_count": 224,
   "metadata": {},
   "outputs": [],
   "source": [
    "# We need encoding 'mental_health_consequence'. \n",
    "\n",
    "df['mental_health_consequence'] = df['mental_health_consequence'].map({\n",
    "        \"No\": 0,\n",
    "        \"Maybe\": 1, \n",
    "        \"Yes\": 2,\n",
    "})"
   ]
  },
  {
   "cell_type": "markdown",
   "metadata": {},
   "source": [
    "###### phys_health_consequence\n",
    "Do you think that discussing a physical health issue with your employer would have negative consequences?"
   ]
  },
  {
   "cell_type": "code",
   "execution_count": 225,
   "metadata": {},
   "outputs": [
    {
     "data": {
      "image/png": "[encoded data removed]",
      "text/plain": [
       "<Figure size 432x288 with 1 Axes>"
      ]
     },
     "metadata": {},
     "output_type": "display_data"
    }
   ],
   "source": [
    "# plot for 'phys_health_consequence'\n",
    "\n",
    "df['phys_health_consequence'].value_counts().plot.bar()\n",
    "plt.show()"
   ]
  },
  {
   "cell_type": "code",
   "execution_count": 226,
   "metadata": {},
   "outputs": [],
   "source": [
    "# We need encoding 'mental_health_consequence'. \n",
    "\n",
    "df['phys_health_consequence'] = df['phys_health_consequence'].map({\n",
    "        \"No\": 0,\n",
    "        \"Maybe\": 1, \n",
    "        \"Yes\": 2,\n",
    "})"
   ]
  },
  {
   "cell_type": "markdown",
   "metadata": {},
   "source": [
    "###### coworkers\n",
    "Would you be willing to discuss a mental health issue with your coworkers?"
   ]
  },
  {
   "cell_type": "code",
   "execution_count": 227,
   "metadata": {},
   "outputs": [
    {
     "data": {
      "image/png": "[encoded data removed]",
      "text/plain": [
       "<Figure size 432x288 with 1 Axes>"
      ]
     },
     "metadata": {},
     "output_type": "display_data"
    }
   ],
   "source": [
    "# plot for 'coworkers'\n",
    "\n",
    "df['coworkers'].value_counts().plot.bar()\n",
    "plt.show()"
   ]
  },
  {
   "cell_type": "code",
   "execution_count": 228,
   "metadata": {},
   "outputs": [],
   "source": [
    "# We need encoding 'coworkers'. \n",
    "\n",
    "df['coworkers'] = df['coworkers'].map({\n",
    "        \"No\": 0,\n",
    "        \"Some of them\": 1, \n",
    "        \"Yes\": 2,\n",
    "})"
   ]
  },
  {
   "cell_type": "markdown",
   "metadata": {},
   "source": [
    "###### supervisor\n",
    "Would you be willing to discuss a mental health issue with your direct supervisor(s)?"
   ]
  },
  {
   "cell_type": "code",
   "execution_count": 229,
   "metadata": {},
   "outputs": [
    {
     "data": {
      "image/png": "[encoded data removed]",
      "text/plain": [
       "<Figure size 432x288 with 1 Axes>"
      ]
     },
     "metadata": {},
     "output_type": "display_data"
    }
   ],
   "source": [
    "# plot for 'supervisor'\n",
    "\n",
    "df['supervisor'].value_counts().plot.bar()\n",
    "plt.show()"
   ]
  },
  {
   "cell_type": "code",
   "execution_count": 230,
   "metadata": {},
   "outputs": [],
   "source": [
    "# We need encoding 'supervisor'. \n",
    "\n",
    "df['supervisor'] = df['supervisor'].map({\n",
    "        \"No\": 0,\n",
    "        \"Some of them\": 1, \n",
    "        \"Yes\": 2,\n",
    "})"
   ]
  },
  {
   "cell_type": "markdown",
   "metadata": {},
   "source": [
    "###### mental_health_interview\n",
    "Would you bring up a mental health issue with a potential employer in an interview?"
   ]
  },
  {
   "cell_type": "code",
   "execution_count": 231,
   "metadata": {},
   "outputs": [
    {
     "data": {
      "image/png": "[encoded data removed]",
      "text/plain": [
       "<Figure size 432x288 with 1 Axes>"
      ]
     },
     "metadata": {},
     "output_type": "display_data"
    }
   ],
   "source": [
    "# plot for 'mental_health_interview'\n",
    "\n",
    "df['mental_health_interview'].value_counts().plot.bar()\n",
    "plt.show()\n"
   ]
  },
  {
   "cell_type": "code",
   "execution_count": 232,
   "metadata": {},
   "outputs": [],
   "source": [
    "# We need encoding 'mental_health_interview'. \n",
    "\n",
    "df['mental_health_interview'] = df['mental_health_interview'].map({\n",
    "        \"No\": 0,\n",
    "        \"Maybe\": 1, \n",
    "        \"Yes\": 2,\n",
    "})"
   ]
  },
  {
   "cell_type": "markdown",
   "metadata": {},
   "source": [
    "###### phys_health_interview\n",
    "Would you bring up a physical health issue with a potential employer in an interview?"
   ]
  },
  {
   "cell_type": "code",
   "execution_count": 233,
   "metadata": {},
   "outputs": [
    {
     "data": {
      "image/png": "[encoded data removed]",
      "text/plain": [
       "<Figure size 432x288 with 1 Axes>"
      ]
     },
     "metadata": {},
     "output_type": "display_data"
    }
   ],
   "source": [
    "# plot for 'phys_health_interview'\n",
    "\n",
    "df['phys_health_interview'].value_counts().plot.bar()\n",
    "plt.show()"
   ]
  },
  {
   "cell_type": "code",
   "execution_count": 234,
   "metadata": {},
   "outputs": [],
   "source": [
    "# We need encoding 'phys_health_interview'. \n",
    "\n",
    "df['phys_health_interview'] = df['phys_health_interview'].map({\n",
    "        \"No\": 0,\n",
    "        \"Maybe\": 1, \n",
    "        \"Yes\": 2,\n",
    "})"
   ]
  },
  {
   "cell_type": "markdown",
   "metadata": {},
   "source": [
    "###### obs_consequence\n",
    "Have you heard of or observed negative consequences for coworkers with mental health conditions in your workplace?"
   ]
  },
  {
   "cell_type": "code",
   "execution_count": 235,
   "metadata": {},
   "outputs": [
    {
     "data": {
      "image/png": "[encoded data removed]",
      "text/plain": [
       "<Figure size 432x288 with 1 Axes>"
      ]
     },
     "metadata": {},
     "output_type": "display_data"
    }
   ],
   "source": [
    "# plot for 'obs_consequence'\n",
    "\n",
    "df['obs_consequence'].value_counts().plot.bar()\n",
    "plt.show()"
   ]
  },
  {
   "cell_type": "code",
   "execution_count": 236,
   "metadata": {},
   "outputs": [],
   "source": [
    "# We need encoding 'obs_consequence'. \n",
    "\n",
    "df['obs_consequence'] = df['obs_consequence'].map({\n",
    "        \"No\": 0,\n",
    "        \"Yes\": 1,\n",
    "})"
   ]
  },
  {
   "cell_type": "markdown",
   "metadata": {},
   "source": [
    "###### mental_vs_physical\n",
    "Do you feel that your employer takes mental health as seriously as physical health?"
   ]
  },
  {
   "cell_type": "code",
   "execution_count": 237,
   "metadata": {},
   "outputs": [
    {
     "data": {
      "image/png": "[encoded data removed]",
      "text/plain": [
       "<Figure size 432x288 with 1 Axes>"
      ]
     },
     "metadata": {},
     "output_type": "display_data"
    }
   ],
   "source": [
    "# plot for 'mental_vs_physical'\n",
    "\n",
    "df['mental_vs_physical'].value_counts().plot.bar()\n",
    "plt.show()"
   ]
  },
  {
   "cell_type": "code",
   "execution_count": 238,
   "metadata": {},
   "outputs": [],
   "source": [
    "# encodding 'mental_vs_physical'\n",
    "\n",
    "def apply_mental_vs_physical(s):\n",
    "    if s == 'No':\n",
    "        return 0\n",
    "    elif s == \"Yes\":\n",
    "        return 1\n",
    "    elif s == \"Don't know\":\n",
    "        return 2\n",
    "    else:\n",
    "        return 2\n",
    "        \n",
    "df['mental_vs_physical'] = df['mental_vs_physical'].apply(apply_mental_vs_physical)"
   ]
  },
  {
   "cell_type": "markdown",
   "metadata": {},
   "source": [
    "#### Country"
   ]
  },
  {
   "cell_type": "code",
   "execution_count": 239,
   "metadata": {},
   "outputs": [
    {
     "data": {
      "text/plain": [
       "array(['United States', 'Canada', 'United Kingdom', 'USA', 'Bulgaria',\n",
       "       'France', 'usa', 'Portugal', 'Netherlands', 'The USA',\n",
       "       'Switzerland', 'Poland', 'Australia', 'Germany', 'Russia',\n",
       "       'Mexico', 'Brazil', 'Slovenia', 'Costa Rica', 'Austria', 'Ireland',\n",
       "       'India', 'South Africa', 'Italy', 'Sweden', 'Colombia', 'Latvia',\n",
       "       'Romania', 'Belgium', 'New Zealand', 'Zimbabwe', 'Spain',\n",
       "       'Finland', 'Uruguay', 'Israel', 'Bosnia and Herzegovina',\n",
       "       'Hungary', 'Singapore', 'Japan', 'Nigeria', 'Croatia', 'Norway',\n",
       "       'Thailand', 'Denmark', 'Bahamas, The', 'Greece', 'Moldova',\n",
       "       'Georgia', 'China', 'Czech Republic', 'Philippines'], dtype=object)"
      ]
     },
     "execution_count": 239,
     "metadata": {},
     "output_type": "execute_result"
    }
   ],
   "source": [
    "df['Country'].unique()"
   ]
  },
  {
   "cell_type": "code",
   "execution_count": 240,
   "metadata": {},
   "outputs": [
    {
     "name": "stderr",
     "output_type": "stream",
     "text": [
      "/home/olexandr/anaconda3/lib/python3.6/site-packages/ipykernel_launcher.py:8: SettingWithCopyWarning:\n",
      "\n",
      "\n",
      "A value is trying to be set on a copy of a slice from a DataFrame\n",
      "\n",
      "See the caveats in the documentation: http://pandas.pydata.org/pandas-docs/stable/indexing.html#indexing-view-versus-copy\n",
      "\n",
      "/home/olexandr/anaconda3/lib/python3.6/site-packages/ipykernel_launcher.py:10: SettingWithCopyWarning:\n",
      "\n",
      "\n",
      "A value is trying to be set on a copy of a slice from a DataFrame\n",
      "\n",
      "See the caveats in the documentation: http://pandas.pydata.org/pandas-docs/stable/indexing.html#indexing-view-versus-copy\n",
      "\n",
      "/home/olexandr/anaconda3/lib/python3.6/site-packages/ipykernel_launcher.py:6: SettingWithCopyWarning:\n",
      "\n",
      "\n",
      "A value is trying to be set on a copy of a slice from a DataFrame\n",
      "\n",
      "See the caveats in the documentation: http://pandas.pydata.org/pandas-docs/stable/indexing.html#indexing-view-versus-copy\n",
      "\n"
     ]
    }
   ],
   "source": [
    "# Convert 'USA','usa','The USA' to 'United States'\n",
    "\n",
    "i = 0 \n",
    "for c in df['Country']:\n",
    "    if c == 'The USA':\n",
    "        df['Country'][i] = 'United States'\n",
    "    elif c == 'USA':\n",
    "        df['Country'][i] = 'United States'\n",
    "    elif c == 'usa':\n",
    "        df['Country'][i] = 'United States'\n",
    "    i = i + 1"
   ]
  },
  {
   "cell_type": "code",
   "execution_count": 241,
   "metadata": {},
   "outputs": [
    {
     "data": {
      "text/plain": [
       "array(['United States', 'Canada', 'United Kingdom', 'Bulgaria', 'France',\n",
       "       'Portugal', 'Netherlands', 'Switzerland', 'Poland', 'Australia',\n",
       "       'Germany', 'Russia', 'Mexico', 'Brazil', 'Slovenia', 'Costa Rica',\n",
       "       'Austria', 'Ireland', 'India', 'South Africa', 'Italy', 'Sweden',\n",
       "       'Colombia', 'Latvia', 'Romania', 'Belgium', 'New Zealand',\n",
       "       'Zimbabwe', 'Spain', 'Finland', 'Uruguay', 'Israel',\n",
       "       'Bosnia and Herzegovina', 'Hungary', 'Singapore', 'Japan',\n",
       "       'Nigeria', 'Croatia', 'Norway', 'Thailand', 'Denmark',\n",
       "       'Bahamas, The', 'Greece', 'Moldova', 'Georgia', 'China',\n",
       "       'Czech Republic', 'Philippines'], dtype=object)"
      ]
     },
     "execution_count": 241,
     "metadata": {},
     "output_type": "execute_result"
    }
   ],
   "source": [
    "df['Country'].unique()"
   ]
  },
  {
   "cell_type": "code",
   "execution_count": 242,
   "metadata": {},
   "outputs": [
    {
     "data": {
      "text/plain": [
       "array([0, 1])"
      ]
     },
     "execution_count": 242,
     "metadata": {},
     "output_type": "execute_result"
    }
   ],
   "source": [
    "df['obs_consequence'].unique()"
   ]
  },
  {
   "cell_type": "markdown",
   "metadata": {},
   "source": [
    "### 4. The answer to the first question\n",
    "###### How does the frequency of mental health illness and attitudes (other factors in datasets) towards mental health vary by geographic location?\n",
    "\n",
    "I compare the location and the answer to the question \n",
    "'Have you heard of or observed negative consequences for coworkers with mental health conditions in your workplace?'"
   ]
  },
  {
   "cell_type": "markdown",
   "metadata": {},
   "source": [
    "##### 4.1. Country and 'obs_consequence'"
   ]
  },
  {
   "cell_type": "code",
   "execution_count": 243,
   "metadata": {},
   "outputs": [],
   "source": [
    "total_country = df[\"Country\"].value_counts()\n",
    "obs_consequence_no = df[df[\"obs_consequence\"] == 0][\"Country\"].value_counts()\n",
    "obs_consequence_yes = df[df[\"obs_consequence\"] == 1][\"Country\"].value_counts()"
   ]
  },
  {
   "cell_type": "code",
   "execution_count": 244,
   "metadata": {},
   "outputs": [
    {
     "name": "stdout",
     "output_type": "stream",
     "text": [
      "This is the format of your plot grid:\n",
      "[ (1,1) x1,y1 ]  [ (1,2) x2,y2 ]\n",
      "[ (2,1) x3,y3           -      ]\n",
      "\n"
     ]
    },
    {
     "data": {
      "application/vnd.plotly.v1+json": {
       "data": [
        {
         "name": "obs consequence| NO",
         "type": "bar",
         "x": [
          "United States",
          "United Kingdom",
          "Canada",
          "Germany",
          "Netherlands",
          "Ireland",
          "Australia",
          "France",
          "India",
          "Italy",
          "Switzerland",
          "Sweden",
          "Poland",
          "Belgium",
          "New Zealand",
          "Israel",
          "Singapore",
          "South Africa",
          "Brazil",
          "Bulgaria",
          "Austria",
          "Russia",
          "Mexico",
          "Portugal",
          "Denmark",
          "Greece",
          "Finland",
          "Colombia",
          "Hungary",
          "Thailand",
          "Nigeria",
          "Romania",
          "Norway",
          "Moldova",
          "Costa Rica",
          "Slovenia",
          "Uruguay",
          "Georgia",
          "Latvia",
          "Croatia",
          "Spain",
          "China"
         ],
         "xaxis": "x1",
         "y": [
          663,
          149,
          62,
          40,
          25,
          22,
          13,
          11,
          9,
          7,
          7,
          6,
          6,
          4,
          4,
          4,
          3,
          3,
          3,
          3,
          3,
          3,
          3,
          2,
          2,
          2,
          2,
          2,
          1,
          1,
          1,
          1,
          1,
          1,
          1,
          1,
          1,
          1,
          1,
          1,
          1,
          1
         ],
         "yaxis": "y1"
        },
        {
         "name": "obs consequence | YES",
         "type": "bar",
         "x": [
          "United States",
          "United Kingdom",
          "Canada",
          "Australia",
          "Germany",
          "Ireland",
          "New Zealand",
          "South Africa",
          "Brazil",
          "Netherlands",
          "France",
          "Belgium",
          "Zimbabwe",
          "Philippines",
          "Bosnia and Herzegovina",
          "Bulgaria",
          "Finland",
          "Croatia",
          "India",
          "Sweden",
          "Bahamas, The",
          "Japan",
          "Czech Republic",
          "Poland",
          "Singapore",
          "Israel"
         ],
         "xaxis": "x2",
         "y": [
          89,
          37,
          10,
          8,
          5,
          5,
          4,
          3,
          3,
          2,
          2,
          2,
          1,
          1,
          1,
          1,
          1,
          1,
          1,
          1,
          1,
          1,
          1,
          1,
          1,
          1
         ],
         "yaxis": "y2"
        },
        {
         "name": "All Country",
         "type": "bar",
         "x": [
          "United States",
          "United Kingdom",
          "Canada",
          "Germany",
          "Netherlands",
          "Ireland",
          "Australia",
          "France",
          "India",
          "New Zealand",
          "Sweden",
          "Poland",
          "Italy",
          "Switzerland",
          "Belgium",
          "South Africa",
          "Brazil",
          "Israel",
          "Bulgaria",
          "Singapore",
          "Austria",
          "Russia",
          "Finland",
          "Mexico",
          "Denmark",
          "Colombia",
          "Croatia",
          "Greece",
          "Portugal",
          "Latvia",
          "Japan",
          "Georgia",
          "Uruguay",
          "Slovenia",
          "Costa Rica",
          "Zimbabwe",
          "Norway",
          "Romania",
          "Nigeria",
          "Hungary",
          "Thailand",
          "Czech Republic",
          "Bosnia and Herzegovina",
          "Moldova",
          "Bahamas, The",
          "Spain",
          "China",
          "Philippines"
         ],
         "xaxis": "x3",
         "y": [
          752,
          186,
          72,
          45,
          27,
          27,
          21,
          13,
          10,
          8,
          7,
          7,
          7,
          7,
          6,
          6,
          6,
          5,
          4,
          4,
          3,
          3,
          3,
          3,
          2,
          2,
          2,
          2,
          2,
          1,
          1,
          1,
          1,
          1,
          1,
          1,
          1,
          1,
          1,
          1,
          1,
          1,
          1,
          1,
          1,
          1,
          1,
          1
         ],
         "yaxis": "y3"
        }
       ],
       "layout": {
        "annotations": [
         {
          "font": {
           "size": 16
          },
          "showarrow": false,
          "text": "No",
          "x": 0.225,
          "xanchor": "center",
          "xref": "paper",
          "y": 1,
          "yanchor": "bottom",
          "yref": "paper"
         },
         {
          "font": {
           "size": 16
          },
          "showarrow": false,
          "text": "Yes",
          "x": 0.775,
          "xanchor": "center",
          "xref": "paper",
          "y": 1,
          "yanchor": "bottom",
          "yref": "paper"
         },
         {
          "font": {
           "size": 16
          },
          "showarrow": false,
          "text": "General country",
          "x": 0.5,
          "xanchor": "center",
          "xref": "paper",
          "y": 0.375,
          "yanchor": "bottom",
          "yref": "paper"
         }
        ],
        "bargap": 0.05,
        "showlegend": true,
        "title": "Mental health in different country",
        "xaxis1": {
         "anchor": "y1",
         "domain": [
          0,
          0.45
         ]
        },
        "xaxis2": {
         "anchor": "y2",
         "domain": [
          0.55,
          1
         ]
        },
        "xaxis3": {
         "anchor": "y3",
         "domain": [
          0,
          1
         ]
        },
        "yaxis1": {
         "anchor": "x1",
         "domain": [
          0.625,
          1
         ]
        },
        "yaxis2": {
         "anchor": "x2",
         "domain": [
          0.625,
          1
         ]
        },
        "yaxis3": {
         "anchor": "x3",
         "domain": [
          0,
          0.375
         ]
        }
       }
      },
      "text/html": [
       "<div id=\"9eb78f48-6470-4f9b-a84c-6b7ca168f5e9\" style=\"height: 525px; width: 100%;\" class=\"plotly-graph-div\"></div><script type=\"text/javascript\">require([\"plotly\"], function(Plotly) { window.PLOTLYENV=window.PLOTLYENV || {};window.PLOTLYENV.BASE_URL=\"https://plot.ly\";Plotly.newPlot(\"9eb78f48-6470-4f9b-a84c-6b7ca168f5e9\", [{\"type\": \"bar\", \"x\": [\"United States\", \"United Kingdom\", \"Canada\", \"Germany\", \"Netherlands\", \"Ireland\", \"Australia\", \"France\", \"India\", \"Italy\", \"Switzerland\", \"Sweden\", \"Poland\", \"Belgium\", \"New Zealand\", \"Israel\", \"Singapore\", \"South Africa\", \"Brazil\", \"Bulgaria\", \"Austria\", \"Russia\", \"Mexico\", \"Portugal\", \"Denmark\", \"Greece\", \"Finland\", \"Colombia\", \"Hungary\", \"Thailand\", \"Nigeria\", \"Romania\", \"Norway\", \"Moldova\", \"Costa Rica\", \"Slovenia\", \"Uruguay\", \"Georgia\", \"Latvia\", \"Croatia\", \"Spain\", \"China\"], \"y\": [663, 149, 62, 40, 25, 22, 13, 11, 9, 7, 7, 6, 6, 4, 4, 4, 3, 3, 3, 3, 3, 3, 3, 2, 2, 2, 2, 2, 1, 1, 1, 1, 1, 1, 1, 1, 1, 1, 1, 1, 1, 1], \"name\": \"obs consequence| NO\", \"xaxis\": \"x1\", \"yaxis\": \"y1\"}, {\"type\": \"bar\", \"x\": [\"United States\", \"United Kingdom\", \"Canada\", \"Australia\", \"Germany\", \"Ireland\", \"New Zealand\", \"South Africa\", \"Brazil\", \"Netherlands\", \"France\", \"Belgium\", \"Zimbabwe\", \"Philippines\", \"Bosnia and Herzegovina\", \"Bulgaria\", \"Finland\", \"Croatia\", \"India\", \"Sweden\", \"Bahamas, The\", \"Japan\", \"Czech Republic\", \"Poland\", \"Singapore\", \"Israel\"], \"y\": [89, 37, 10, 8, 5, 5, 4, 3, 3, 2, 2, 2, 1, 1, 1, 1, 1, 1, 1, 1, 1, 1, 1, 1, 1, 1], \"name\": \"obs consequence | YES\", \"xaxis\": \"x2\", \"yaxis\": \"y2\"}, {\"type\": \"bar\", \"x\": [\"United States\", \"United Kingdom\", \"Canada\", \"Germany\", \"Netherlands\", \"Ireland\", \"Australia\", \"France\", \"India\", \"New Zealand\", \"Sweden\", \"Poland\", \"Italy\", \"Switzerland\", \"Belgium\", \"South Africa\", \"Brazil\", \"Israel\", \"Bulgaria\", \"Singapore\", \"Austria\", \"Russia\", \"Finland\", \"Mexico\", \"Denmark\", \"Colombia\", \"Croatia\", \"Greece\", \"Portugal\", \"Latvia\", \"Japan\", \"Georgia\", \"Uruguay\", \"Slovenia\", \"Costa Rica\", \"Zimbabwe\", \"Norway\", \"Romania\", \"Nigeria\", \"Hungary\", \"Thailand\", \"Czech Republic\", \"Bosnia and Herzegovina\", \"Moldova\", \"Bahamas, The\", \"Spain\", \"China\", \"Philippines\"], \"y\": [752, 186, 72, 45, 27, 27, 21, 13, 10, 8, 7, 7, 7, 7, 6, 6, 6, 5, 4, 4, 3, 3, 3, 3, 2, 2, 2, 2, 2, 1, 1, 1, 1, 1, 1, 1, 1, 1, 1, 1, 1, 1, 1, 1, 1, 1, 1, 1], \"name\": \"All Country\", \"xaxis\": \"x3\", \"yaxis\": \"y3\"}], {\"xaxis1\": {\"domain\": [0.0, 0.45], \"anchor\": \"y1\"}, \"yaxis1\": {\"domain\": [0.625, 1.0], \"anchor\": \"x1\"}, \"xaxis2\": {\"domain\": [0.55, 1.0], \"anchor\": \"y2\"}, \"yaxis2\": {\"domain\": [0.625, 1.0], \"anchor\": \"x2\"}, \"xaxis3\": {\"domain\": [0.0, 1.0], \"anchor\": \"y3\"}, \"yaxis3\": {\"domain\": [0.0, 0.375], \"anchor\": \"x3\"}, \"annotations\": [{\"y\": 1.0, \"xref\": \"paper\", \"x\": 0.225, \"yref\": \"paper\", \"text\": \"No\", \"showarrow\": false, \"font\": {\"size\": 16}, \"xanchor\": \"center\", \"yanchor\": \"bottom\"}, {\"y\": 1.0, \"xref\": \"paper\", \"x\": 0.775, \"yref\": \"paper\", \"text\": \"Yes\", \"showarrow\": false, \"font\": {\"size\": 16}, \"xanchor\": \"center\", \"yanchor\": \"bottom\"}, {\"y\": 0.375, \"xref\": \"paper\", \"x\": 0.5, \"yref\": \"paper\", \"text\": \"General country\", \"showarrow\": false, \"font\": {\"size\": 16}, \"xanchor\": \"center\", \"yanchor\": \"bottom\"}], \"showlegend\": true, \"title\": \"Mental health in different country\", \"bargap\": 0.05}, {\"showLink\": true, \"linkText\": \"Export to plot.ly\"})});</script>"
      ],
      "text/vnd.plotly.v1+html": [
       "<div id=\"9eb78f48-6470-4f9b-a84c-6b7ca168f5e9\" style=\"height: 525px; width: 100%;\" class=\"plotly-graph-div\"></div><script type=\"text/javascript\">require([\"plotly\"], function(Plotly) { window.PLOTLYENV=window.PLOTLYENV || {};window.PLOTLYENV.BASE_URL=\"https://plot.ly\";Plotly.newPlot(\"9eb78f48-6470-4f9b-a84c-6b7ca168f5e9\", [{\"type\": \"bar\", \"x\": [\"United States\", \"United Kingdom\", \"Canada\", \"Germany\", \"Netherlands\", \"Ireland\", \"Australia\", \"France\", \"India\", \"Italy\", \"Switzerland\", \"Sweden\", \"Poland\", \"Belgium\", \"New Zealand\", \"Israel\", \"Singapore\", \"South Africa\", \"Brazil\", \"Bulgaria\", \"Austria\", \"Russia\", \"Mexico\", \"Portugal\", \"Denmark\", \"Greece\", \"Finland\", \"Colombia\", \"Hungary\", \"Thailand\", \"Nigeria\", \"Romania\", \"Norway\", \"Moldova\", \"Costa Rica\", \"Slovenia\", \"Uruguay\", \"Georgia\", \"Latvia\", \"Croatia\", \"Spain\", \"China\"], \"y\": [663, 149, 62, 40, 25, 22, 13, 11, 9, 7, 7, 6, 6, 4, 4, 4, 3, 3, 3, 3, 3, 3, 3, 2, 2, 2, 2, 2, 1, 1, 1, 1, 1, 1, 1, 1, 1, 1, 1, 1, 1, 1], \"name\": \"obs consequence| NO\", \"xaxis\": \"x1\", \"yaxis\": \"y1\"}, {\"type\": \"bar\", \"x\": [\"United States\", \"United Kingdom\", \"Canada\", \"Australia\", \"Germany\", \"Ireland\", \"New Zealand\", \"South Africa\", \"Brazil\", \"Netherlands\", \"France\", \"Belgium\", \"Zimbabwe\", \"Philippines\", \"Bosnia and Herzegovina\", \"Bulgaria\", \"Finland\", \"Croatia\", \"India\", \"Sweden\", \"Bahamas, The\", \"Japan\", \"Czech Republic\", \"Poland\", \"Singapore\", \"Israel\"], \"y\": [89, 37, 10, 8, 5, 5, 4, 3, 3, 2, 2, 2, 1, 1, 1, 1, 1, 1, 1, 1, 1, 1, 1, 1, 1, 1], \"name\": \"obs consequence | YES\", \"xaxis\": \"x2\", \"yaxis\": \"y2\"}, {\"type\": \"bar\", \"x\": [\"United States\", \"United Kingdom\", \"Canada\", \"Germany\", \"Netherlands\", \"Ireland\", \"Australia\", \"France\", \"India\", \"New Zealand\", \"Sweden\", \"Poland\", \"Italy\", \"Switzerland\", \"Belgium\", \"South Africa\", \"Brazil\", \"Israel\", \"Bulgaria\", \"Singapore\", \"Austria\", \"Russia\", \"Finland\", \"Mexico\", \"Denmark\", \"Colombia\", \"Croatia\", \"Greece\", \"Portugal\", \"Latvia\", \"Japan\", \"Georgia\", \"Uruguay\", \"Slovenia\", \"Costa Rica\", \"Zimbabwe\", \"Norway\", \"Romania\", \"Nigeria\", \"Hungary\", \"Thailand\", \"Czech Republic\", \"Bosnia and Herzegovina\", \"Moldova\", \"Bahamas, The\", \"Spain\", \"China\", \"Philippines\"], \"y\": [752, 186, 72, 45, 27, 27, 21, 13, 10, 8, 7, 7, 7, 7, 6, 6, 6, 5, 4, 4, 3, 3, 3, 3, 2, 2, 2, 2, 2, 1, 1, 1, 1, 1, 1, 1, 1, 1, 1, 1, 1, 1, 1, 1, 1, 1, 1, 1], \"name\": \"All Country\", \"xaxis\": \"x3\", \"yaxis\": \"y3\"}], {\"xaxis1\": {\"domain\": [0.0, 0.45], \"anchor\": \"y1\"}, \"yaxis1\": {\"domain\": [0.625, 1.0], \"anchor\": \"x1\"}, \"xaxis2\": {\"domain\": [0.55, 1.0], \"anchor\": \"y2\"}, \"yaxis2\": {\"domain\": [0.625, 1.0], \"anchor\": \"x2\"}, \"xaxis3\": {\"domain\": [0.0, 1.0], \"anchor\": \"y3\"}, \"yaxis3\": {\"domain\": [0.0, 0.375], \"anchor\": \"x3\"}, \"annotations\": [{\"y\": 1.0, \"xref\": \"paper\", \"x\": 0.225, \"yref\": \"paper\", \"text\": \"No\", \"showarrow\": false, \"font\": {\"size\": 16}, \"xanchor\": \"center\", \"yanchor\": \"bottom\"}, {\"y\": 1.0, \"xref\": \"paper\", \"x\": 0.775, \"yref\": \"paper\", \"text\": \"Yes\", \"showarrow\": false, \"font\": {\"size\": 16}, \"xanchor\": \"center\", \"yanchor\": \"bottom\"}, {\"y\": 0.375, \"xref\": \"paper\", \"x\": 0.5, \"yref\": \"paper\", \"text\": \"General country\", \"showarrow\": false, \"font\": {\"size\": 16}, \"xanchor\": \"center\", \"yanchor\": \"bottom\"}], \"showlegend\": true, \"title\": \"Mental health in different country\", \"bargap\": 0.05}, {\"showLink\": true, \"linkText\": \"Export to plot.ly\"})});</script>"
      ]
     },
     "metadata": {},
     "output_type": "display_data"
    }
   ],
   "source": [
    "#First plot\n",
    "trace0 = go.Bar(\n",
    "    x=obs_consequence_no.index,\n",
    "    y=obs_consequence_no.values,\n",
    "    name=\"obs consequence| NO\"\n",
    ")\n",
    "\n",
    "#Second plot\n",
    "trace1 = go.Bar(\n",
    "    x=obs_consequence_yes.index,\n",
    "    y=obs_consequence_yes.values,\n",
    "    name=\"obs consequence | YES\"\n",
    ")\n",
    "\n",
    "#Third plot\n",
    "trace2 = go.Bar(\n",
    "    x=total_country.index,\n",
    "    y=total_country.values,\n",
    "    name=\"All Country\"\n",
    ")\n",
    "\n",
    "#Creating the grid\n",
    "fig = tls.make_subplots(rows=2, cols=2, specs=[[{}, {}], [{'colspan': 2}, None]],\n",
    "                          subplot_titles=('No','Yes', \"General country\"))\n",
    "\n",
    "#setting the figs\n",
    "fig.append_trace(trace0, 1, 1)\n",
    "fig.append_trace(trace1, 1, 2)\n",
    "fig.append_trace(trace2, 2, 1)\n",
    "\n",
    "fig['layout'].update(showlegend=True, title=\"Mental health in different country\",bargap=0.05)\n",
    "iplot(fig)"
   ]
  },
  {
   "cell_type": "markdown",
   "metadata": {},
   "source": [
    "#### Сonclusion from the visualization\n",
    "- The largest number of respondents from the United States. They are relatively equally distributed\n",
    "- UK and Canada are too\n",
    "- Indicators for other countries are not enough\n",
    "- So, we can`t say that it depends on the location.We dont have enough information"
   ]
  },
  {
   "cell_type": "markdown",
   "metadata": {},
   "source": [
    "##### 4.2. Heatmap for each variables"
   ]
  },
  {
   "cell_type": "code",
   "execution_count": 245,
   "metadata": {},
   "outputs": [
    {
     "data": {
      "application/vnd.plotly.v1+json": {
       "data": [
        {
         "colorscale": "Viridis",
         "opacity": 1,
         "reversescale": false,
         "text": true,
         "type": "heatmap",
         "x": [
          "Age",
          "Country",
          "self_employed",
          "family_history",
          "treatment",
          "work_interfere",
          "no_employees",
          "remote_work",
          "tech_company",
          "benefits",
          "care_options",
          "wellness_program",
          "seek_help",
          "anonymity",
          "leave",
          "mental_health_consequence",
          "phys_health_consequence",
          "coworkers",
          "supervisor",
          "mental_health_interview",
          "phys_health_interview",
          "mental_vs_physical",
          "obs_consequence"
         ],
         "y": [
          "Age",
          "Country",
          "self_employed",
          "family_history",
          "treatment",
          "work_interfere",
          "no_employees",
          "remote_work",
          "tech_company",
          "benefits",
          "care_options",
          "wellness_program",
          "seek_help",
          "anonymity",
          "leave",
          "mental_health_consequence",
          "phys_health_consequence",
          "coworkers",
          "supervisor",
          "mental_health_interview",
          "phys_health_interview",
          "mental_vs_physical",
          "obs_consequence"
         ],
         "z": [
          [
           1,
           0.0774751636958018,
           0.03521155480886785,
           0.02779454006682993,
           0.04691562920220502,
           -0.03994292277083559,
           -0.01839751882378821,
           0.013235245533619294,
           -0.036767198081744376,
           0.005280637638296264,
           -0.018324899826107258,
           -0.025234338885753525,
           -0.0769200703113792,
           0.010009292111518754,
           0.042249145752594856,
           0.08509027163202715,
           -0.044209149322306615,
           -0.03661953723972429,
           0.09944857800356514,
           -0.030399783541883777,
           -0.04030551457417748,
           0.06815750262610148
          ],
          [
           0.0774751636958018,
           1,
           0.01303390703156562,
           0.022699240293925206,
           0.07094866834411939,
           -0.39741116346453215,
           0.31723231705735205,
           0.08236142272642809,
           -0.21736495291985433,
           -0.00032763332284120865,
           -0.018720430426838918,
           -0.1199549191509062,
           -0.1247405811204559,
           -0.14228079568496477,
           -0.06296639409303405,
           0.03954970204774144,
           0.08012841030578903,
           0.04148990051293017,
           0.10320742670000868,
           0.03887905778044824,
           -0.03090416850946053,
           0.080762839836183
          ],
          [
           0.03521155480886785,
           0.01303390703156562,
           1,
           0.3770474960369725,
           0.2640257507945523,
           0.025570703582869867,
           0.011309528425640907,
           -0.04636212051949791,
           0.002753276056438127,
           0.012372101336228488,
           -0.019790089956207343,
           0.007720897318094707,
           -0.0755349893917631,
           -0.022418660021179718,
           0.09627170435053008,
           0.060464263717942356,
           -0.0008749146999749868,
           0.005722809449065058,
           -0.06050690865329706,
           -0.04197994864969987,
           -0.09378633935387602,
           0.1250835662202055
          ],
          [
           0.02779454006682993,
           0.022699240293925206,
           0.3770474960369725,
           1,
           0.49050309318677454,
           0.00897269501031251,
           0.027575171592250165,
           -0.03075902518823178,
           -0.09414389054128663,
           0.021574075817920667,
           -0.015189701575159411,
           -0.02418901148188619,
           -0.13022580986344237,
           -0.038445288930684274,
           0.1311662771566741,
           0.05066399744552979,
           0.06844971258088385,
           -0.036311419058545714,
           -0.04602043068378992,
           0.00674343493654235,
           -0.12230962970466802,
           0.15618125304103997
          ],
          [
           0.04691562920220502,
           0.07094866834411939,
           0.2640257507945523,
           0.49050309318677454,
           1,
           -0.07970723801768954,
           0.052896559061370446,
           -0.018480119374296437,
           -0.10215012395913456,
           -0.018328903738315874,
           -0.10992155063525864,
           -0.14877830059406708,
           -0.10067647165814916,
           -0.04495120022830243,
           0.15280243320015674,
           0.04182261265122016,
           0.02001226744342466,
           -0.038803349115003084,
           -0.04532397816948417,
           0.07054443911012176,
           -0.13933526199752785,
           0.15041963738798853
          ],
          [
           -0.03994292277083559,
           -0.39741116346453215,
           0.025570703582869867,
           0.00897269501031251,
           -0.07970723801768954,
           1,
           -0.23938299362415338,
           -0.2541936453944003,
           0.24513691519863479,
           0.14532803900805505,
           0.2757295509981244,
           0.31065715876312505,
           0.050164588543176916,
           0.15315198535239122,
           0.1025848986845344,
           0.009552789978553449,
           -0.130788123871905,
           -0.09498212540544602,
           -0.12754963374776873,
           -0.07476791296327047,
           -0.027253920148357737,
           0.041997079722448497
          ],
          [
           -0.01839751882378821,
           0.31723231705735205,
           0.011309528425640907,
           0.027575171592250165,
           0.052896559061370446,
           -0.23938299362415338,
           1,
           0.1312689187137794,
           -0.036205398649785,
           -0.022098317858522128,
           0.014551467349817446,
           -0.009699401090043299,
           0.00880974689690337,
           -0.071895588876991,
           -0.007864585093405315,
           0.02452672716063164,
           0.08237885227993844,
           0.023032255026338263,
           0.08735328534916723,
           0.03449407678177629,
           0.032389658241729714,
           -0.03930527148607811
          ],
          [
           0.013235245533619294,
           0.08236142272642809,
           -0.04636212051949791,
           -0.03075902518823178,
           -0.018480119374296437,
           -0.2541936453944003,
           0.1312689187137794,
           1,
           -0.040996191568396186,
           0.0004915745070731387,
           -0.030767896083993454,
           -0.06189841819736991,
           0.06222738675517608,
           -0.0429676758105515,
           -0.11471601271575846,
           -0.04641868234024001,
           0.0754029519201452,
           0.04939228934363535,
           0.08533489812676698,
           0.0032579085990885374,
           0.07735635269919773,
           -0.0626365229989917
          ],
          [
           -0.036767198081744376,
           -0.21736495291985433,
           0.002753276056438127,
           -0.09414389054128663,
           -0.10215012395913456,
           0.24513691519863479,
           -0.036205398649785,
           -0.040996191568396186,
           1,
           0.22809041190854035,
           0.24205420216575757,
           0.40886234103085967,
           0.2493526969451225,
           0.1261761066730885,
           -0.08670501275916034,
           -0.09553149310415648,
           0.02433548643422246,
           0.016200079583114486,
           0.021733667501842094,
           -0.012386378107501662,
           0.1761570262194095,
           -0.11157304598755463
          ],
          [
           0.005280637638296264,
           -0.00032763332284120865,
           0.012372101336228488,
           0.021574075817920667,
           -0.018328903738315874,
           0.14532803900805505,
           -0.022098317858522128,
           0.0004915745070731387,
           0.22809041190854035,
           1,
           0.25985971709673966,
           0.2500318025991419,
           0.0327000220257654,
           -0.026399555340123757,
           -0.07466965034148622,
           0.011804275481937127,
           0.0013099740408090014,
           0.05489434521387204,
           0.02014137006427993,
           -0.03001543610490484,
           0.04272951529996106,
           -0.019063010214814786
          ],
          [
           -0.018324899826107258,
           -0.018720430426838918,
           -0.019790089956207343,
           -0.015189701575159411,
           -0.10992155063525864,
           0.2757295509981244,
           0.014551467349817446,
           -0.030767896083993454,
           0.24205420216575757,
           0.25985971709673966,
           1,
           0.4740022834129219,
           0.015503473861965895,
           -0.012909995729753179,
           -0.1677475721111621,
           -0.05259087846646756,
           0.08439885111424243,
           0.0997116354787577,
           0.06806293665538996,
           -0.032225390832080675,
           0.09491702414641208,
           -0.03550863945687833
          ],
          [
           -0.025234338885753525,
           -0.1199549191509062,
           0.007720897318094707,
           -0.02418901148188619,
           -0.14877830059406708,
           0.31065715876312505,
           -0.009699401090043299,
           -0.06189841819736991,
           0.40886234103085967,
           0.2500318025991419,
           0.4740022834129219,
           1,
           0.16753407823332767,
           0.10655691437462539,
           -0.10376799100751406,
           -0.09275569251603522,
           -0.018956386268274394,
           0.035256409990154856,
           -0.0013788083143805713,
           -0.07239766679464917,
           0.15665137681609942,
           -0.09545396958107254
          ],
          [
           -0.0769200703113792,
           -0.1247405811204559,
           -0.0755349893917631,
           -0.13022580986344237,
           -0.10067647165814916,
           0.050164588543176916,
           0.00880974689690337,
           0.06222738675517608,
           0.2493526969451225,
           0.0327000220257654,
           0.015503473861965895,
           0.16753407823332767,
           1,
           0.23636926810875905,
           -0.01699880005977406,
           -0.03348035752612843,
           -3.638692088173579e-05,
           -0.04287276814537816,
           -0.029949625607053595,
           -0.03699647192920728,
           0.19165479604389543,
           -0.131573704264076
          ],
          [
           0.010009292111518754,
           -0.14228079568496477,
           -0.022418660021179718,
           -0.038445288930684274,
           -0.04495120022830243,
           0.15315198535239122,
           -0.071895588876991,
           -0.0429676758105515,
           0.1261761066730885,
           -0.026399555340123757,
           -0.012909995729753179,
           0.10655691437462539,
           0.23636926810875905,
           1,
           0.23889934848540167,
           0.09785114395099764,
           -0.21001460931567684,
           -0.2555684571256011,
           -0.15170509122960885,
           -0.07159712594623215,
           0.07680889597811301,
           0.01735562817787908
          ],
          [
           0.042249145752594856,
           -0.06296639409303405,
           0.09627170435053008,
           0.1311662771566741,
           0.15280243320015674,
           0.1025848986845344,
           -0.007864585093405315,
           -0.11471601271575846,
           -0.08670501275916034,
           -0.07466965034148622,
           -0.1677475721111621,
           -0.10376799100751406,
           -0.01699880005977406,
           0.23889934848540167,
           1,
           0.5156335285082637,
           -0.44354141151574766,
           -0.5773582041320875,
           -0.3023574505060658,
           -0.07551443890867393,
           -0.1782540519788817,
           0.229974995750687
          ],
          [
           0.08509027163202715,
           0.03954970204774144,
           0.060464263717942356,
           0.05066399744552979,
           0.04182261265122016,
           0.009552789978553449,
           0.02452672716063164,
           -0.04641868234024001,
           -0.09553149310415648,
           0.011804275481937127,
           -0.05259087846646756,
           -0.09275569251603522,
           -0.03348035752612843,
           0.09785114395099764,
           0.5156335285082637,
           1,
           -0.22699429238757415,
           -0.3271591311622261,
           -0.09100565665526651,
           -0.17788440836819333,
           -0.11932517475351702,
           0.18247347132226668
          ],
          [
           -0.044209149322306615,
           0.08012841030578903,
           -0.0008749146999749868,
           0.06844971258088385,
           0.02001226744342466,
           -0.130788123871905,
           0.08237885227993844,
           0.0754029519201452,
           0.02433548643422246,
           0.0013099740408090014,
           0.08439885111424243,
           -0.018956386268274394,
           -3.638692088173579e-05,
           -0.21001460931567684,
           -0.44354141151574766,
           -0.22699429238757415,
           1,
           0.5736555991520963,
           0.32584521759981516,
           0.1442004699896447,
           0.016370495996961214,
           -0.039495761058507196
          ],
          [
           -0.03661953723972429,
           0.04148990051293017,
           0.005722809449065058,
           -0.036311419058545714,
           -0.038803349115003084,
           -0.09498212540544602,
           0.023032255026338263,
           0.04939228934363535,
           0.016200079583114486,
           0.05489434521387204,
           0.0997116354787577,
           0.035256409990154856,
           -0.04287276814537816,
           -0.2555684571256011,
           -0.5773582041320875,
           -0.3271591311622261,
           0.5736555991520963,
           1,
           0.32324773294751974,
           0.15934253430180076,
           0.04935069667826649,
           -0.09031714713974245
          ],
          [
           0.09944857800356514,
           0.10320742670000868,
           -0.06050690865329706,
           -0.04602043068378992,
           -0.04532397816948417,
           -0.12754963374776873,
           0.08735328534916723,
           0.08533489812676698,
           0.021733667501842094,
           0.02014137006427993,
           0.06806293665538996,
           -0.0013788083143805713,
           -0.029949625607053595,
           -0.15170509122960885,
           -0.3023574505060658,
           -0.09100565665526651,
           0.32584521759981516,
           0.32324773294751974,
           1,
           0.44878113399877056,
           0.012802143108688869,
           -0.05544506842851455
          ],
          [
           -0.030399783541883777,
           0.03887905778044824,
           -0.04197994864969987,
           0.00674343493654235,
           0.07054443911012176,
           -0.07476791296327047,
           0.03449407678177629,
           0.0032579085990885374,
           -0.012386378107501662,
           -0.03001543610490484,
           -0.032225390832080675,
           -0.07239766679464917,
           -0.03699647192920728,
           -0.07159712594623215,
           -0.07551443890867393,
           -0.17788440836819333,
           0.1442004699896447,
           0.15934253430180076,
           0.44878113399877056,
           1,
           -0.09504117999352515,
           0.03962278722127895
          ],
          [
           -0.04030551457417748,
           -0.03090416850946053,
           -0.09378633935387602,
           -0.12230962970466802,
           -0.13933526199752785,
           -0.027253920148357737,
           0.032389658241729714,
           0.07735635269919773,
           0.1761570262194095,
           0.04272951529996106,
           0.09491702414641208,
           0.15665137681609942,
           0.19165479604389543,
           0.07680889597811301,
           -0.1782540519788817,
           -0.11932517475351702,
           0.016370495996961214,
           0.04935069667826649,
           0.012802143108688869,
           -0.09504117999352515,
           1,
           -0.2455251672421722
          ],
          [
           0.06815750262610148,
           0.080762839836183,
           0.1250835662202055,
           0.15618125304103997,
           0.15041963738798853,
           0.041997079722448497,
           -0.03930527148607811,
           -0.0626365229989917,
           -0.11157304598755463,
           -0.019063010214814786,
           -0.03550863945687833,
           -0.09545396958107254,
           -0.131573704264076,
           0.01735562817787908,
           0.229974995750687,
           0.18247347132226668,
           -0.039495761058507196,
           -0.09031714713974245,
           -0.05544506842851455,
           0.03962278722127895,
           -0.2455251672421722,
           1
          ]
         ]
        }
       ],
       "layout": {
        "height": 700,
        "title": "Pearson Correlation of features",
        "width": 900,
        "xaxis": {
         "nticks": 36,
         "ticks": ""
        },
        "yaxis": {
         "ticks": ""
        }
       }
      },
      "text/html": [
       "<div id=\"952eb71a-ed49-436d-9fab-7530d3647266\" style=\"height: 700px; width: 900px;\" class=\"plotly-graph-div\"></div><script type=\"text/javascript\">require([\"plotly\"], function(Plotly) { window.PLOTLYENV=window.PLOTLYENV || {};window.PLOTLYENV.BASE_URL=\"https://plot.ly\";Plotly.newPlot(\"952eb71a-ed49-436d-9fab-7530d3647266\", [{\"type\": \"heatmap\", \"z\": [[1.0, 0.0774751636958018, 0.03521155480886785, 0.02779454006682993, 0.04691562920220502, -0.03994292277083559, -0.01839751882378821, 0.013235245533619294, -0.036767198081744376, 0.005280637638296264, -0.018324899826107258, -0.025234338885753525, -0.0769200703113792, 0.010009292111518754, 0.042249145752594856, 0.08509027163202715, -0.044209149322306615, -0.03661953723972429, 0.09944857800356514, -0.030399783541883777, -0.04030551457417748, 0.06815750262610148], [0.0774751636958018, 1.0, 0.01303390703156562, 0.022699240293925206, 0.07094866834411939, -0.39741116346453215, 0.31723231705735205, 0.08236142272642809, -0.21736495291985433, -0.00032763332284120865, -0.018720430426838918, -0.1199549191509062, -0.1247405811204559, -0.14228079568496477, -0.06296639409303405, 0.03954970204774144, 0.08012841030578903, 0.04148990051293017, 0.10320742670000868, 0.03887905778044824, -0.03090416850946053, 0.080762839836183], [0.03521155480886785, 0.01303390703156562, 1.0, 0.3770474960369725, 0.2640257507945523, 0.025570703582869867, 0.011309528425640907, -0.04636212051949791, 0.002753276056438127, 0.012372101336228488, -0.019790089956207343, 0.007720897318094707, -0.0755349893917631, -0.022418660021179718, 0.09627170435053008, 0.060464263717942356, -0.0008749146999749868, 0.005722809449065058, -0.06050690865329706, -0.04197994864969987, -0.09378633935387602, 0.1250835662202055], [0.02779454006682993, 0.022699240293925206, 0.3770474960369725, 1.0, 0.49050309318677454, 0.00897269501031251, 0.027575171592250165, -0.03075902518823178, -0.09414389054128663, 0.021574075817920667, -0.015189701575159411, -0.02418901148188619, -0.13022580986344237, -0.038445288930684274, 0.1311662771566741, 0.05066399744552979, 0.06844971258088385, -0.036311419058545714, -0.04602043068378992, 0.00674343493654235, -0.12230962970466802, 0.15618125304103997], [0.04691562920220502, 0.07094866834411939, 0.2640257507945523, 0.49050309318677454, 1.0, -0.07970723801768954, 0.052896559061370446, -0.018480119374296437, -0.10215012395913456, -0.018328903738315874, -0.10992155063525864, -0.14877830059406708, -0.10067647165814916, -0.04495120022830243, 0.15280243320015674, 0.04182261265122016, 0.02001226744342466, -0.038803349115003084, -0.04532397816948417, 0.07054443911012176, -0.13933526199752785, 0.15041963738798853], [-0.03994292277083559, -0.39741116346453215, 0.025570703582869867, 0.00897269501031251, -0.07970723801768954, 1.0, -0.23938299362415338, -0.2541936453944003, 0.24513691519863479, 0.14532803900805505, 0.2757295509981244, 0.31065715876312505, 0.050164588543176916, 0.15315198535239122, 0.1025848986845344, 0.009552789978553449, -0.130788123871905, -0.09498212540544602, -0.12754963374776873, -0.07476791296327047, -0.027253920148357737, 0.041997079722448497], [-0.01839751882378821, 0.31723231705735205, 0.011309528425640907, 0.027575171592250165, 0.052896559061370446, -0.23938299362415338, 1.0, 0.1312689187137794, -0.036205398649785, -0.022098317858522128, 0.014551467349817446, -0.009699401090043299, 0.00880974689690337, -0.071895588876991, -0.007864585093405315, 0.02452672716063164, 0.08237885227993844, 0.023032255026338263, 0.08735328534916723, 0.03449407678177629, 0.032389658241729714, -0.03930527148607811], [0.013235245533619294, 0.08236142272642809, -0.04636212051949791, -0.03075902518823178, -0.018480119374296437, -0.2541936453944003, 0.1312689187137794, 1.0, -0.040996191568396186, 0.0004915745070731387, -0.030767896083993454, -0.06189841819736991, 0.06222738675517608, -0.0429676758105515, -0.11471601271575846, -0.04641868234024001, 0.0754029519201452, 0.04939228934363535, 0.08533489812676698, 0.0032579085990885374, 0.07735635269919773, -0.0626365229989917], [-0.036767198081744376, -0.21736495291985433, 0.002753276056438127, -0.09414389054128663, -0.10215012395913456, 0.24513691519863479, -0.036205398649785, -0.040996191568396186, 1.0, 0.22809041190854035, 0.24205420216575757, 0.40886234103085967, 0.2493526969451225, 0.1261761066730885, -0.08670501275916034, -0.09553149310415648, 0.02433548643422246, 0.016200079583114486, 0.021733667501842094, -0.012386378107501662, 0.1761570262194095, -0.11157304598755463], [0.005280637638296264, -0.00032763332284120865, 0.012372101336228488, 0.021574075817920667, -0.018328903738315874, 0.14532803900805505, -0.022098317858522128, 0.0004915745070731387, 0.22809041190854035, 1.0, 0.25985971709673966, 0.2500318025991419, 0.0327000220257654, -0.026399555340123757, -0.07466965034148622, 0.011804275481937127, 0.0013099740408090014, 0.05489434521387204, 0.02014137006427993, -0.03001543610490484, 0.04272951529996106, -0.019063010214814786], [-0.018324899826107258, -0.018720430426838918, -0.019790089956207343, -0.015189701575159411, -0.10992155063525864, 0.2757295509981244, 0.014551467349817446, -0.030767896083993454, 0.24205420216575757, 0.25985971709673966, 1.0, 0.4740022834129219, 0.015503473861965895, -0.012909995729753179, -0.1677475721111621, -0.05259087846646756, 0.08439885111424243, 0.0997116354787577, 0.06806293665538996, -0.032225390832080675, 0.09491702414641208, -0.03550863945687833], [-0.025234338885753525, -0.1199549191509062, 0.007720897318094707, -0.02418901148188619, -0.14877830059406708, 0.31065715876312505, -0.009699401090043299, -0.06189841819736991, 0.40886234103085967, 0.2500318025991419, 0.4740022834129219, 1.0, 0.16753407823332767, 0.10655691437462539, -0.10376799100751406, -0.09275569251603522, -0.018956386268274394, 0.035256409990154856, -0.0013788083143805713, -0.07239766679464917, 0.15665137681609942, -0.09545396958107254], [-0.0769200703113792, -0.1247405811204559, -0.0755349893917631, -0.13022580986344237, -0.10067647165814916, 0.050164588543176916, 0.00880974689690337, 0.06222738675517608, 0.2493526969451225, 0.0327000220257654, 0.015503473861965895, 0.16753407823332767, 1.0, 0.23636926810875905, -0.01699880005977406, -0.03348035752612843, -3.638692088173579e-05, -0.04287276814537816, -0.029949625607053595, -0.03699647192920728, 0.19165479604389543, -0.131573704264076], [0.010009292111518754, -0.14228079568496477, -0.022418660021179718, -0.038445288930684274, -0.04495120022830243, 0.15315198535239122, -0.071895588876991, -0.0429676758105515, 0.1261761066730885, -0.026399555340123757, -0.012909995729753179, 0.10655691437462539, 0.23636926810875905, 1.0, 0.23889934848540167, 0.09785114395099764, -0.21001460931567684, -0.2555684571256011, -0.15170509122960885, -0.07159712594623215, 0.07680889597811301, 0.01735562817787908], [0.042249145752594856, -0.06296639409303405, 0.09627170435053008, 0.1311662771566741, 0.15280243320015674, 0.1025848986845344, -0.007864585093405315, -0.11471601271575846, -0.08670501275916034, -0.07466965034148622, -0.1677475721111621, -0.10376799100751406, -0.01699880005977406, 0.23889934848540167, 1.0, 0.5156335285082637, -0.44354141151574766, -0.5773582041320875, -0.3023574505060658, -0.07551443890867393, -0.1782540519788817, 0.229974995750687], [0.08509027163202715, 0.03954970204774144, 0.060464263717942356, 0.05066399744552979, 0.04182261265122016, 0.009552789978553449, 0.02452672716063164, -0.04641868234024001, -0.09553149310415648, 0.011804275481937127, -0.05259087846646756, -0.09275569251603522, -0.03348035752612843, 0.09785114395099764, 0.5156335285082637, 1.0, -0.22699429238757415, -0.3271591311622261, -0.09100565665526651, -0.17788440836819333, -0.11932517475351702, 0.18247347132226668], [-0.044209149322306615, 0.08012841030578903, -0.0008749146999749868, 0.06844971258088385, 0.02001226744342466, -0.130788123871905, 0.08237885227993844, 0.0754029519201452, 0.02433548643422246, 0.0013099740408090014, 0.08439885111424243, -0.018956386268274394, -3.638692088173579e-05, -0.21001460931567684, -0.44354141151574766, -0.22699429238757415, 1.0, 0.5736555991520963, 0.32584521759981516, 0.1442004699896447, 0.016370495996961214, -0.039495761058507196], [-0.03661953723972429, 0.04148990051293017, 0.005722809449065058, -0.036311419058545714, -0.038803349115003084, -0.09498212540544602, 0.023032255026338263, 0.04939228934363535, 0.016200079583114486, 0.05489434521387204, 0.0997116354787577, 0.035256409990154856, -0.04287276814537816, -0.2555684571256011, -0.5773582041320875, -0.3271591311622261, 0.5736555991520963, 1.0, 0.32324773294751974, 0.15934253430180076, 0.04935069667826649, -0.09031714713974245], [0.09944857800356514, 0.10320742670000868, -0.06050690865329706, -0.04602043068378992, -0.04532397816948417, -0.12754963374776873, 0.08735328534916723, 0.08533489812676698, 0.021733667501842094, 0.02014137006427993, 0.06806293665538996, -0.0013788083143805713, -0.029949625607053595, -0.15170509122960885, -0.3023574505060658, -0.09100565665526651, 0.32584521759981516, 0.32324773294751974, 1.0, 0.44878113399877056, 0.012802143108688869, -0.05544506842851455], [-0.030399783541883777, 0.03887905778044824, -0.04197994864969987, 0.00674343493654235, 0.07054443911012176, -0.07476791296327047, 0.03449407678177629, 0.0032579085990885374, -0.012386378107501662, -0.03001543610490484, -0.032225390832080675, -0.07239766679464917, -0.03699647192920728, -0.07159712594623215, -0.07551443890867393, -0.17788440836819333, 0.1442004699896447, 0.15934253430180076, 0.44878113399877056, 1.0, -0.09504117999352515, 0.03962278722127895], [-0.04030551457417748, -0.03090416850946053, -0.09378633935387602, -0.12230962970466802, -0.13933526199752785, -0.027253920148357737, 0.032389658241729714, 0.07735635269919773, 0.1761570262194095, 0.04272951529996106, 0.09491702414641208, 0.15665137681609942, 0.19165479604389543, 0.07680889597811301, -0.1782540519788817, -0.11932517475351702, 0.016370495996961214, 0.04935069667826649, 0.012802143108688869, -0.09504117999352515, 1.0, -0.2455251672421722], [0.06815750262610148, 0.080762839836183, 0.1250835662202055, 0.15618125304103997, 0.15041963738798853, 0.041997079722448497, -0.03930527148607811, -0.0626365229989917, -0.11157304598755463, -0.019063010214814786, -0.03550863945687833, -0.09545396958107254, -0.131573704264076, 0.01735562817787908, 0.229974995750687, 0.18247347132226668, -0.039495761058507196, -0.09031714713974245, -0.05544506842851455, 0.03962278722127895, -0.2455251672421722, 1.0]], \"x\": [\"Age\", \"Country\", \"self_employed\", \"family_history\", \"treatment\", \"work_interfere\", \"no_employees\", \"remote_work\", \"tech_company\", \"benefits\", \"care_options\", \"wellness_program\", \"seek_help\", \"anonymity\", \"leave\", \"mental_health_consequence\", \"phys_health_consequence\", \"coworkers\", \"supervisor\", \"mental_health_interview\", \"phys_health_interview\", \"mental_vs_physical\", \"obs_consequence\"], \"y\": [\"Age\", \"Country\", \"self_employed\", \"family_history\", \"treatment\", \"work_interfere\", \"no_employees\", \"remote_work\", \"tech_company\", \"benefits\", \"care_options\", \"wellness_program\", \"seek_help\", \"anonymity\", \"leave\", \"mental_health_consequence\", \"phys_health_consequence\", \"coworkers\", \"supervisor\", \"mental_health_interview\", \"phys_health_interview\", \"mental_vs_physical\", \"obs_consequence\"], \"colorscale\": \"Viridis\", \"reversescale\": false, \"text\": true, \"opacity\": 1.0}], {\"title\": \"Pearson Correlation of features\", \"xaxis\": {\"ticks\": \"\", \"nticks\": 36}, \"yaxis\": {\"ticks\": \"\"}, \"width\": 900, \"height\": 700}, {\"showLink\": true, \"linkText\": \"Export to plot.ly\"})});</script>"
      ],
      "text/vnd.plotly.v1+html": [
       "<div id=\"952eb71a-ed49-436d-9fab-7530d3647266\" style=\"height: 700px; width: 900px;\" class=\"plotly-graph-div\"></div><script type=\"text/javascript\">require([\"plotly\"], function(Plotly) { window.PLOTLYENV=window.PLOTLYENV || {};window.PLOTLYENV.BASE_URL=\"https://plot.ly\";Plotly.newPlot(\"952eb71a-ed49-436d-9fab-7530d3647266\", [{\"type\": \"heatmap\", \"z\": [[1.0, 0.0774751636958018, 0.03521155480886785, 0.02779454006682993, 0.04691562920220502, -0.03994292277083559, -0.01839751882378821, 0.013235245533619294, -0.036767198081744376, 0.005280637638296264, -0.018324899826107258, -0.025234338885753525, -0.0769200703113792, 0.010009292111518754, 0.042249145752594856, 0.08509027163202715, -0.044209149322306615, -0.03661953723972429, 0.09944857800356514, -0.030399783541883777, -0.04030551457417748, 0.06815750262610148], [0.0774751636958018, 1.0, 0.01303390703156562, 0.022699240293925206, 0.07094866834411939, -0.39741116346453215, 0.31723231705735205, 0.08236142272642809, -0.21736495291985433, -0.00032763332284120865, -0.018720430426838918, -0.1199549191509062, -0.1247405811204559, -0.14228079568496477, -0.06296639409303405, 0.03954970204774144, 0.08012841030578903, 0.04148990051293017, 0.10320742670000868, 0.03887905778044824, -0.03090416850946053, 0.080762839836183], [0.03521155480886785, 0.01303390703156562, 1.0, 0.3770474960369725, 0.2640257507945523, 0.025570703582869867, 0.011309528425640907, -0.04636212051949791, 0.002753276056438127, 0.012372101336228488, -0.019790089956207343, 0.007720897318094707, -0.0755349893917631, -0.022418660021179718, 0.09627170435053008, 0.060464263717942356, -0.0008749146999749868, 0.005722809449065058, -0.06050690865329706, -0.04197994864969987, -0.09378633935387602, 0.1250835662202055], [0.02779454006682993, 0.022699240293925206, 0.3770474960369725, 1.0, 0.49050309318677454, 0.00897269501031251, 0.027575171592250165, -0.03075902518823178, -0.09414389054128663, 0.021574075817920667, -0.015189701575159411, -0.02418901148188619, -0.13022580986344237, -0.038445288930684274, 0.1311662771566741, 0.05066399744552979, 0.06844971258088385, -0.036311419058545714, -0.04602043068378992, 0.00674343493654235, -0.12230962970466802, 0.15618125304103997], [0.04691562920220502, 0.07094866834411939, 0.2640257507945523, 0.49050309318677454, 1.0, -0.07970723801768954, 0.052896559061370446, -0.018480119374296437, -0.10215012395913456, -0.018328903738315874, -0.10992155063525864, -0.14877830059406708, -0.10067647165814916, -0.04495120022830243, 0.15280243320015674, 0.04182261265122016, 0.02001226744342466, -0.038803349115003084, -0.04532397816948417, 0.07054443911012176, -0.13933526199752785, 0.15041963738798853], [-0.03994292277083559, -0.39741116346453215, 0.025570703582869867, 0.00897269501031251, -0.07970723801768954, 1.0, -0.23938299362415338, -0.2541936453944003, 0.24513691519863479, 0.14532803900805505, 0.2757295509981244, 0.31065715876312505, 0.050164588543176916, 0.15315198535239122, 0.1025848986845344, 0.009552789978553449, -0.130788123871905, -0.09498212540544602, -0.12754963374776873, -0.07476791296327047, -0.027253920148357737, 0.041997079722448497], [-0.01839751882378821, 0.31723231705735205, 0.011309528425640907, 0.027575171592250165, 0.052896559061370446, -0.23938299362415338, 1.0, 0.1312689187137794, -0.036205398649785, -0.022098317858522128, 0.014551467349817446, -0.009699401090043299, 0.00880974689690337, -0.071895588876991, -0.007864585093405315, 0.02452672716063164, 0.08237885227993844, 0.023032255026338263, 0.08735328534916723, 0.03449407678177629, 0.032389658241729714, -0.03930527148607811], [0.013235245533619294, 0.08236142272642809, -0.04636212051949791, -0.03075902518823178, -0.018480119374296437, -0.2541936453944003, 0.1312689187137794, 1.0, -0.040996191568396186, 0.0004915745070731387, -0.030767896083993454, -0.06189841819736991, 0.06222738675517608, -0.0429676758105515, -0.11471601271575846, -0.04641868234024001, 0.0754029519201452, 0.04939228934363535, 0.08533489812676698, 0.0032579085990885374, 0.07735635269919773, -0.0626365229989917], [-0.036767198081744376, -0.21736495291985433, 0.002753276056438127, -0.09414389054128663, -0.10215012395913456, 0.24513691519863479, -0.036205398649785, -0.040996191568396186, 1.0, 0.22809041190854035, 0.24205420216575757, 0.40886234103085967, 0.2493526969451225, 0.1261761066730885, -0.08670501275916034, -0.09553149310415648, 0.02433548643422246, 0.016200079583114486, 0.021733667501842094, -0.012386378107501662, 0.1761570262194095, -0.11157304598755463], [0.005280637638296264, -0.00032763332284120865, 0.012372101336228488, 0.021574075817920667, -0.018328903738315874, 0.14532803900805505, -0.022098317858522128, 0.0004915745070731387, 0.22809041190854035, 1.0, 0.25985971709673966, 0.2500318025991419, 0.0327000220257654, -0.026399555340123757, -0.07466965034148622, 0.011804275481937127, 0.0013099740408090014, 0.05489434521387204, 0.02014137006427993, -0.03001543610490484, 0.04272951529996106, -0.019063010214814786], [-0.018324899826107258, -0.018720430426838918, -0.019790089956207343, -0.015189701575159411, -0.10992155063525864, 0.2757295509981244, 0.014551467349817446, -0.030767896083993454, 0.24205420216575757, 0.25985971709673966, 1.0, 0.4740022834129219, 0.015503473861965895, -0.012909995729753179, -0.1677475721111621, -0.05259087846646756, 0.08439885111424243, 0.0997116354787577, 0.06806293665538996, -0.032225390832080675, 0.09491702414641208, -0.03550863945687833], [-0.025234338885753525, -0.1199549191509062, 0.007720897318094707, -0.02418901148188619, -0.14877830059406708, 0.31065715876312505, -0.009699401090043299, -0.06189841819736991, 0.40886234103085967, 0.2500318025991419, 0.4740022834129219, 1.0, 0.16753407823332767, 0.10655691437462539, -0.10376799100751406, -0.09275569251603522, -0.018956386268274394, 0.035256409990154856, -0.0013788083143805713, -0.07239766679464917, 0.15665137681609942, -0.09545396958107254], [-0.0769200703113792, -0.1247405811204559, -0.0755349893917631, -0.13022580986344237, -0.10067647165814916, 0.050164588543176916, 0.00880974689690337, 0.06222738675517608, 0.2493526969451225, 0.0327000220257654, 0.015503473861965895, 0.16753407823332767, 1.0, 0.23636926810875905, -0.01699880005977406, -0.03348035752612843, -3.638692088173579e-05, -0.04287276814537816, -0.029949625607053595, -0.03699647192920728, 0.19165479604389543, -0.131573704264076], [0.010009292111518754, -0.14228079568496477, -0.022418660021179718, -0.038445288930684274, -0.04495120022830243, 0.15315198535239122, -0.071895588876991, -0.0429676758105515, 0.1261761066730885, -0.026399555340123757, -0.012909995729753179, 0.10655691437462539, 0.23636926810875905, 1.0, 0.23889934848540167, 0.09785114395099764, -0.21001460931567684, -0.2555684571256011, -0.15170509122960885, -0.07159712594623215, 0.07680889597811301, 0.01735562817787908], [0.042249145752594856, -0.06296639409303405, 0.09627170435053008, 0.1311662771566741, 0.15280243320015674, 0.1025848986845344, -0.007864585093405315, -0.11471601271575846, -0.08670501275916034, -0.07466965034148622, -0.1677475721111621, -0.10376799100751406, -0.01699880005977406, 0.23889934848540167, 1.0, 0.5156335285082637, -0.44354141151574766, -0.5773582041320875, -0.3023574505060658, -0.07551443890867393, -0.1782540519788817, 0.229974995750687], [0.08509027163202715, 0.03954970204774144, 0.060464263717942356, 0.05066399744552979, 0.04182261265122016, 0.009552789978553449, 0.02452672716063164, -0.04641868234024001, -0.09553149310415648, 0.011804275481937127, -0.05259087846646756, -0.09275569251603522, -0.03348035752612843, 0.09785114395099764, 0.5156335285082637, 1.0, -0.22699429238757415, -0.3271591311622261, -0.09100565665526651, -0.17788440836819333, -0.11932517475351702, 0.18247347132226668], [-0.044209149322306615, 0.08012841030578903, -0.0008749146999749868, 0.06844971258088385, 0.02001226744342466, -0.130788123871905, 0.08237885227993844, 0.0754029519201452, 0.02433548643422246, 0.0013099740408090014, 0.08439885111424243, -0.018956386268274394, -3.638692088173579e-05, -0.21001460931567684, -0.44354141151574766, -0.22699429238757415, 1.0, 0.5736555991520963, 0.32584521759981516, 0.1442004699896447, 0.016370495996961214, -0.039495761058507196], [-0.03661953723972429, 0.04148990051293017, 0.005722809449065058, -0.036311419058545714, -0.038803349115003084, -0.09498212540544602, 0.023032255026338263, 0.04939228934363535, 0.016200079583114486, 0.05489434521387204, 0.0997116354787577, 0.035256409990154856, -0.04287276814537816, -0.2555684571256011, -0.5773582041320875, -0.3271591311622261, 0.5736555991520963, 1.0, 0.32324773294751974, 0.15934253430180076, 0.04935069667826649, -0.09031714713974245], [0.09944857800356514, 0.10320742670000868, -0.06050690865329706, -0.04602043068378992, -0.04532397816948417, -0.12754963374776873, 0.08735328534916723, 0.08533489812676698, 0.021733667501842094, 0.02014137006427993, 0.06806293665538996, -0.0013788083143805713, -0.029949625607053595, -0.15170509122960885, -0.3023574505060658, -0.09100565665526651, 0.32584521759981516, 0.32324773294751974, 1.0, 0.44878113399877056, 0.012802143108688869, -0.05544506842851455], [-0.030399783541883777, 0.03887905778044824, -0.04197994864969987, 0.00674343493654235, 0.07054443911012176, -0.07476791296327047, 0.03449407678177629, 0.0032579085990885374, -0.012386378107501662, -0.03001543610490484, -0.032225390832080675, -0.07239766679464917, -0.03699647192920728, -0.07159712594623215, -0.07551443890867393, -0.17788440836819333, 0.1442004699896447, 0.15934253430180076, 0.44878113399877056, 1.0, -0.09504117999352515, 0.03962278722127895], [-0.04030551457417748, -0.03090416850946053, -0.09378633935387602, -0.12230962970466802, -0.13933526199752785, -0.027253920148357737, 0.032389658241729714, 0.07735635269919773, 0.1761570262194095, 0.04272951529996106, 0.09491702414641208, 0.15665137681609942, 0.19165479604389543, 0.07680889597811301, -0.1782540519788817, -0.11932517475351702, 0.016370495996961214, 0.04935069667826649, 0.012802143108688869, -0.09504117999352515, 1.0, -0.2455251672421722], [0.06815750262610148, 0.080762839836183, 0.1250835662202055, 0.15618125304103997, 0.15041963738798853, 0.041997079722448497, -0.03930527148607811, -0.0626365229989917, -0.11157304598755463, -0.019063010214814786, -0.03550863945687833, -0.09545396958107254, -0.131573704264076, 0.01735562817787908, 0.229974995750687, 0.18247347132226668, -0.039495761058507196, -0.09031714713974245, -0.05544506842851455, 0.03962278722127895, -0.2455251672421722, 1.0]], \"x\": [\"Age\", \"Country\", \"self_employed\", \"family_history\", \"treatment\", \"work_interfere\", \"no_employees\", \"remote_work\", \"tech_company\", \"benefits\", \"care_options\", \"wellness_program\", \"seek_help\", \"anonymity\", \"leave\", \"mental_health_consequence\", \"phys_health_consequence\", \"coworkers\", \"supervisor\", \"mental_health_interview\", \"phys_health_interview\", \"mental_vs_physical\", \"obs_consequence\"], \"y\": [\"Age\", \"Country\", \"self_employed\", \"family_history\", \"treatment\", \"work_interfere\", \"no_employees\", \"remote_work\", \"tech_company\", \"benefits\", \"care_options\", \"wellness_program\", \"seek_help\", \"anonymity\", \"leave\", \"mental_health_consequence\", \"phys_health_consequence\", \"coworkers\", \"supervisor\", \"mental_health_interview\", \"phys_health_interview\", \"mental_vs_physical\", \"obs_consequence\"], \"colorscale\": \"Viridis\", \"reversescale\": false, \"text\": true, \"opacity\": 1.0}], {\"title\": \"Pearson Correlation of features\", \"xaxis\": {\"ticks\": \"\", \"nticks\": 36}, \"yaxis\": {\"ticks\": \"\"}, \"width\": 900, \"height\": 700}, {\"showLink\": true, \"linkText\": \"Export to plot.ly\"})});</script>"
      ]
     },
     "metadata": {},
     "output_type": "display_data"
    }
   ],
   "source": [
    "data = [\n",
    "    go.Heatmap(\n",
    "        z= df.corr().values,\n",
    "        x= df.columns.values,\n",
    "        y= df.columns.values,\n",
    "        colorscale='Viridis',\n",
    "        reversescale = False,\n",
    "        text = True ,\n",
    "        opacity = 1.0 )\n",
    "]\n",
    "\n",
    "layout = go.Layout(\n",
    "    title='Pearson Correlation of features',\n",
    "    xaxis = dict(ticks='', nticks=36),\n",
    "    yaxis = dict(ticks='' ),\n",
    "    width = 900, height = 700)\n",
    "\n",
    "fig = go.Figure(data=data, layout=layout)\n",
    "py.iplot(fig, filename='labelled-heatmap')"
   ]
  },
  {
   "cell_type": "markdown",
   "metadata": {},
   "source": [
    "#### Сonclusion from the heat map:\n",
    "\n",
    "####  I will pay attention to indicators that have a high correlation (>+-0.5):\n",
    "- coworkers / phys_health_consequence: 0.57\n",
    "- mental_health_consequence: 0.51\n",
    "- treatment / family_history: 0.49\n",
    "- coworkers / leave: -0.577\n",
    "\n",
    "##### Correlation with country:\n",
    "- no_employees: 0.31\n",
    "- work_interfere: -0.39"
   ]
  },
  {
   "cell_type": "markdown",
   "metadata": {},
   "source": [
    "### 5. Build model for prediction 'obs_consequence'. With country\n",
    "I can build model for predict answer to the question:\n",
    "##### obs_consequence\n",
    "##### 'Have you heard of or observed negative consequences for coworkers with mental health conditions in your workplace?'"
   ]
  },
  {
   "cell_type": "markdown",
   "metadata": {},
   "source": [
    "##### 5.1. Prediction for modeling"
   ]
  },
  {
   "cell_type": "code",
   "execution_count": 246,
   "metadata": {},
   "outputs": [
    {
     "name": "stdout",
     "output_type": "stream",
     "text": [
      "<class 'pandas.core.frame.DataFrame'>\n",
      "RangeIndex: 1261 entries, 0 to 1260\n",
      "Data columns (total 23 columns):\n",
      "Age                          1261 non-null float64\n",
      "Country                      1261 non-null object\n",
      "self_employed                1242 non-null float64\n",
      "family_history               1260 non-null float64\n",
      "treatment                    1261 non-null int64\n",
      "work_interfere               997 non-null float64\n",
      "no_employees                 1260 non-null float64\n",
      "remote_work                  1261 non-null int64\n",
      "tech_company                 1261 non-null int64\n",
      "benefits                     1260 non-null float64\n",
      "care_options                 1261 non-null int64\n",
      "wellness_program             1261 non-null int64\n",
      "seek_help                    1260 non-null float64\n",
      "anonymity                    1261 non-null int64\n",
      "leave                        1261 non-null int64\n",
      "mental_health_consequence    1261 non-null int64\n",
      "phys_health_consequence      1261 non-null int64\n",
      "coworkers                    1261 non-null int64\n",
      "supervisor                   1261 non-null int64\n",
      "mental_health_interview      1261 non-null int64\n",
      "phys_health_interview        1261 non-null int64\n",
      "mental_vs_physical           1261 non-null int64\n",
      "obs_consequence              1261 non-null int64\n",
      "dtypes: float64(7), int64(15), object(1)\n",
      "memory usage: 226.7+ KB\n"
     ]
    }
   ],
   "source": [
    "df_with_country = df.copy()\n",
    "df_with_country.info()"
   ]
  },
  {
   "cell_type": "code",
   "execution_count": 247,
   "metadata": {},
   "outputs": [],
   "source": [
    "# We use one-hot-codding\n",
    "\n",
    "df_with_country = pd.get_dummies(df_with_country, columns = ['Country'])"
   ]
  },
  {
   "cell_type": "code",
   "execution_count": 248,
   "metadata": {},
   "outputs": [],
   "source": [
    "df_with_country.fillna(-999, inplace = True)"
   ]
  },
  {
   "cell_type": "code",
   "execution_count": 249,
   "metadata": {},
   "outputs": [
    {
     "data": {
      "text/plain": [
       "Index(['Age', 'self_employed', 'family_history', 'treatment', 'work_interfere',\n",
       "       'no_employees', 'remote_work', 'tech_company', 'benefits',\n",
       "       'care_options', 'wellness_program', 'seek_help', 'anonymity', 'leave',\n",
       "       'mental_health_consequence', 'phys_health_consequence', 'coworkers',\n",
       "       'supervisor', 'mental_health_interview', 'phys_health_interview',\n",
       "       'mental_vs_physical', 'obs_consequence', 'Country_Australia',\n",
       "       'Country_Austria', 'Country_Bahamas, The', 'Country_Belgium',\n",
       "       'Country_Bosnia and Herzegovina', 'Country_Brazil', 'Country_Bulgaria',\n",
       "       'Country_Canada', 'Country_China', 'Country_Colombia',\n",
       "       'Country_Costa Rica', 'Country_Croatia', 'Country_Czech Republic',\n",
       "       'Country_Denmark', 'Country_Finland', 'Country_France',\n",
       "       'Country_Georgia', 'Country_Germany', 'Country_Greece',\n",
       "       'Country_Hungary', 'Country_India', 'Country_Ireland', 'Country_Israel',\n",
       "       'Country_Italy', 'Country_Japan', 'Country_Latvia', 'Country_Mexico',\n",
       "       'Country_Moldova', 'Country_Netherlands', 'Country_New Zealand',\n",
       "       'Country_Nigeria', 'Country_Norway', 'Country_Philippines',\n",
       "       'Country_Poland', 'Country_Portugal', 'Country_Romania',\n",
       "       'Country_Russia', 'Country_Singapore', 'Country_Slovenia',\n",
       "       'Country_South Africa', 'Country_Spain', 'Country_Sweden',\n",
       "       'Country_Switzerland', 'Country_Thailand', 'Country_United Kingdom',\n",
       "       'Country_United States', 'Country_Uruguay', 'Country_Zimbabwe'],\n",
       "      dtype='object')"
      ]
     },
     "execution_count": 249,
     "metadata": {},
     "output_type": "execute_result"
    }
   ],
   "source": [
    "df_with_country.columns"
   ]
  },
  {
   "cell_type": "code",
   "execution_count": 250,
   "metadata": {},
   "outputs": [
    {
     "data": {
      "text/plain": [
       "[]"
      ]
     },
     "execution_count": 250,
     "metadata": {},
     "output_type": "execute_result"
    }
   ],
   "source": [
    "df_with_country.columns[df_with_country.isna().any()].tolist()"
   ]
  },
  {
   "cell_type": "markdown",
   "metadata": {},
   "source": [
    "###### 5.2. Split data"
   ]
  },
  {
   "cell_type": "code",
   "execution_count": 251,
   "metadata": {},
   "outputs": [
    {
     "name": "stdout",
     "output_type": "stream",
     "text": [
      "(1261,)\n"
     ]
    },
    {
     "data": {
      "text/plain": [
       "0    0\n",
       "1    0\n",
       "2    0\n",
       "3    1\n",
       "4    0\n",
       "Name: obs_consequence, dtype: int64"
      ]
     },
     "execution_count": 251,
     "metadata": {},
     "output_type": "execute_result"
    }
   ],
   "source": [
    "y = df_with_country['obs_consequence']\n",
    "\n",
    "print(y.shape)\n",
    "y.head(5)"
   ]
  },
  {
   "cell_type": "code",
   "execution_count": 252,
   "metadata": {},
   "outputs": [],
   "source": [
    "df_with_country = df_with_country.drop('obs_consequence', 1)"
   ]
  },
  {
   "cell_type": "code",
   "execution_count": 253,
   "metadata": {},
   "outputs": [
    {
     "name": "stdout",
     "output_type": "stream",
     "text": [
      "(1134, 69) (1134,)\n",
      "(127, 69) (127,)\n"
     ]
    }
   ],
   "source": [
    "# Split dataframe into random train and test subsets\n",
    "\n",
    "X_train, X_test, Y_train, Y_test = train_test_split(\n",
    "    df_with_country,\n",
    "    y, \n",
    "    test_size = 0.1,\n",
    "    random_state=42\n",
    ")\n",
    "\n",
    "print(X_train.shape, Y_train.shape)\n",
    "print(X_test.shape, Y_test.shape)"
   ]
  },
  {
   "cell_type": "markdown",
   "metadata": {},
   "source": [
    "##### 5.3. Build models"
   ]
  },
  {
   "cell_type": "code",
   "execution_count": 254,
   "metadata": {},
   "outputs": [
    {
     "data": {
      "text/plain": [
       "14.17"
      ]
     },
     "execution_count": 254,
     "metadata": {},
     "output_type": "execute_result"
    }
   ],
   "source": [
    "# Logistic Regression\n",
    "# 14.17\n",
    "\n",
    "logreg = LogisticRegression()\n",
    "logreg.fit(X_train, Y_train)\n",
    "\n",
    "acc_log = round(logreg.score(X_test, Y_test) * 100, 2)\n",
    "acc_log"
   ]
  },
  {
   "cell_type": "code",
   "execution_count": 255,
   "metadata": {},
   "outputs": [
    {
     "data": {
      "text/plain": [
       "81.1"
      ]
     },
     "execution_count": 255,
     "metadata": {},
     "output_type": "execute_result"
    }
   ],
   "source": [
    "# Decision Tree\n",
    "# 85\n",
    "\n",
    "decision_tree = DecisionTreeClassifier()\n",
    "decision_tree.fit(X_train, Y_train)\n",
    "\n",
    "acc_decision_tree = round(decision_tree.score(X_test, Y_test) * 100, 2)\n",
    "acc_decision_tree"
   ]
  },
  {
   "cell_type": "code",
   "execution_count": 256,
   "metadata": {},
   "outputs": [],
   "source": [
    "# Create DOT data\n",
    "# $ dot -Tpng tree.dot -o tree.png    (PNG format)\n",
    "\n",
    "dot_data = tree.export_graphviz(decision_tree, out_file='tree.dot')"
   ]
  },
  {
   "cell_type": "code",
   "execution_count": 257,
   "metadata": {},
   "outputs": [
    {
     "data": {
      "text/plain": [
       "84.25"
      ]
     },
     "execution_count": 257,
     "metadata": {},
     "output_type": "execute_result"
    }
   ],
   "source": [
    "# Random Forest\n",
    "# 87\n",
    "\n",
    "random_forest = RandomForestClassifier(n_estimators=100)\n",
    "random_forest.fit(X_train, Y_train)\n",
    "\n",
    "acc_random_forest = round(random_forest.score(X_test, Y_test) * 100, 2)\n",
    "acc_random_forest"
   ]
  },
  {
   "cell_type": "code",
   "execution_count": 258,
   "metadata": {},
   "outputs": [
    {
     "name": "stderr",
     "output_type": "stream",
     "text": [
      "/home/olexandr/anaconda3/lib/python3.6/site-packages/lightgbm/engine.py:99: UserWarning:\n",
      "\n",
      "Found `num_iteration` in params. Will use it instead of argument\n",
      "\n"
     ]
    },
    {
     "name": "stdout",
     "output_type": "stream",
     "text": [
      "Training until validation scores don't improve for 100 rounds.\n",
      "[10]\tvalid_0's auc: 0.697856\n",
      "[20]\tvalid_0's auc: 0.721735\n",
      "[30]\tvalid_0's auc: 0.738791\n",
      "[40]\tvalid_0's auc: 0.734405\n",
      "[50]\tvalid_0's auc: 0.704191\n",
      "[60]\tvalid_0's auc: 0.711988\n",
      "[70]\tvalid_0's auc: 0.700292\n",
      "[80]\tvalid_0's auc: 0.70614\n",
      "[90]\tvalid_0's auc: 0.697856\n",
      "[100]\tvalid_0's auc: 0.690546\n",
      "[110]\tvalid_0's auc: 0.689084\n",
      "[120]\tvalid_0's auc: 0.712963\n",
      "[130]\tvalid_0's auc: 0.7154\n",
      "Early stopping, best iteration is:\n",
      "[31]\tvalid_0's auc: 0.747076\n"
     ]
    }
   ],
   "source": [
    "# LightGBM\n",
    "\n",
    "lgb_train = lgb.Dataset(data=X_train, label=Y_train)\n",
    "lgb_eval = lgb.Dataset(data=X_test, label=Y_test)\n",
    "\n",
    "params = {\n",
    "    'task': 'train', \n",
    "    'boosting_type': 'gbdt', \n",
    "    'objective': 'binary', \n",
    "    'metric': 'auc', \n",
    "    'learning_rate': 0.05, \n",
    "    'num_leaves': 32, \n",
    "    'num_iteration': 500, \n",
    "    'verbose': 0 \n",
    "}\n",
    "\n",
    "model = lgb.train(params, lgb_train, valid_sets=lgb_eval, early_stopping_rounds=100, verbose_eval=10)"
   ]
  },
  {
   "cell_type": "code",
   "execution_count": 259,
   "metadata": {},
   "outputs": [
    {
     "data": {
      "image/png": "[encoded data removed]",
      "text/plain": [
       "<Figure size 864x1440 with 1 Axes>"
      ]
     },
     "metadata": {},
     "output_type": "display_data"
    }
   ],
   "source": [
    "# Feature Importance\n",
    "\n",
    "lgb.plot_importance(model, figsize=(12, 20));"
   ]
  },
  {
   "cell_type": "code",
   "execution_count": null,
   "metadata": {},
   "outputs": [],
   "source": []
  }
 ],
 "metadata": {
  "kernelspec": {
   "display_name": "Python 3",
   "language": "python",
   "name": "python3"
  },
  "language_info": {
   "codemirror_mode": {
    "name": "ipython",
    "version": 3
   },
   "file_extension": ".py",
   "mimetype": "text/x-python",
   "name": "python",
   "nbconvert_exporter": "python",
   "pygments_lexer": "ipython3",
   "version": "3.6.5"
  }
 },
 "nbformat": 4,
 "nbformat_minor": 2
}
